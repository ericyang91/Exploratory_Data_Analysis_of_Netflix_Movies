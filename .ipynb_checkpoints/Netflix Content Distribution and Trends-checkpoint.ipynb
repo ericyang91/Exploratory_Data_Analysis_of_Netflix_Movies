{
 "cells": [
  {
   "cell_type": "markdown",
   "id": "082571a7",
   "metadata": {},
   "source": [
    "# <center>Netflix Content Distribution and Trends</center>\n",
    "<center>Objective of this project is to analyze the distribution of movie genre across countries on Netflix and visualize the trends over the years. Exploratory Data Analysis is performed using Python and a dashboard is created using Tableau.</center>"
   ]
  },
  {
   "cell_type": "markdown",
   "id": "6d3908d0",
   "metadata": {},
   "source": [
    "## Exploratory Data Analysis"
   ]
  },
  {
   "cell_type": "code",
   "execution_count": 3,
   "id": "0701873b",
   "metadata": {},
   "outputs": [],
   "source": [
    "# Import dependencies\n",
    "\n",
    "import pandas as pd\n",
    "import matplotlib.pyplot as plt"
   ]
  },
  {
   "cell_type": "code",
   "execution_count": 4,
   "id": "f12da6fa",
   "metadata": {},
   "outputs": [
    {
     "data": {
      "text/html": [
       "<div>\n",
       "<style scoped>\n",
       "    .dataframe tbody tr th:only-of-type {\n",
       "        vertical-align: middle;\n",
       "    }\n",
       "\n",
       "    .dataframe tbody tr th {\n",
       "        vertical-align: top;\n",
       "    }\n",
       "\n",
       "    .dataframe thead th {\n",
       "        text-align: right;\n",
       "    }\n",
       "</style>\n",
       "<table border=\"1\" class=\"dataframe\">\n",
       "  <thead>\n",
       "    <tr style=\"text-align: right;\">\n",
       "      <th></th>\n",
       "      <th>show_id</th>\n",
       "      <th>type</th>\n",
       "      <th>title</th>\n",
       "      <th>director</th>\n",
       "      <th>cast</th>\n",
       "      <th>country</th>\n",
       "      <th>date_added</th>\n",
       "      <th>release_year</th>\n",
       "      <th>duration</th>\n",
       "      <th>description</th>\n",
       "      <th>genre</th>\n",
       "    </tr>\n",
       "  </thead>\n",
       "  <tbody>\n",
       "    <tr>\n",
       "      <th>0</th>\n",
       "      <td>s1</td>\n",
       "      <td>TV Show</td>\n",
       "      <td>3%</td>\n",
       "      <td>NaN</td>\n",
       "      <td>João Miguel, Bianca Comparato, Michel Gomes, R...</td>\n",
       "      <td>Brazil</td>\n",
       "      <td>August 14, 2020</td>\n",
       "      <td>2020</td>\n",
       "      <td>4</td>\n",
       "      <td>In a future where the elite inhabit an island ...</td>\n",
       "      <td>International TV</td>\n",
       "    </tr>\n",
       "    <tr>\n",
       "      <th>1</th>\n",
       "      <td>s2</td>\n",
       "      <td>Movie</td>\n",
       "      <td>7:19</td>\n",
       "      <td>Jorge Michel Grau</td>\n",
       "      <td>Demián Bichir, Héctor Bonilla, Oscar Serrano, ...</td>\n",
       "      <td>Mexico</td>\n",
       "      <td>December 23, 2016</td>\n",
       "      <td>2016</td>\n",
       "      <td>93</td>\n",
       "      <td>After a devastating earthquake hits Mexico Cit...</td>\n",
       "      <td>Dramas</td>\n",
       "    </tr>\n",
       "    <tr>\n",
       "      <th>2</th>\n",
       "      <td>s3</td>\n",
       "      <td>Movie</td>\n",
       "      <td>23:59</td>\n",
       "      <td>Gilbert Chan</td>\n",
       "      <td>Tedd Chan, Stella Chung, Henley Hii, Lawrence ...</td>\n",
       "      <td>Singapore</td>\n",
       "      <td>December 20, 2018</td>\n",
       "      <td>2011</td>\n",
       "      <td>78</td>\n",
       "      <td>When an army recruit is found dead, his fellow...</td>\n",
       "      <td>Horror Movies</td>\n",
       "    </tr>\n",
       "    <tr>\n",
       "      <th>3</th>\n",
       "      <td>s4</td>\n",
       "      <td>Movie</td>\n",
       "      <td>9</td>\n",
       "      <td>Shane Acker</td>\n",
       "      <td>Elijah Wood, John C. Reilly, Jennifer Connelly...</td>\n",
       "      <td>United States</td>\n",
       "      <td>November 16, 2017</td>\n",
       "      <td>2009</td>\n",
       "      <td>80</td>\n",
       "      <td>In a postapocalyptic world, rag-doll robots hi...</td>\n",
       "      <td>Action</td>\n",
       "    </tr>\n",
       "    <tr>\n",
       "      <th>4</th>\n",
       "      <td>s5</td>\n",
       "      <td>Movie</td>\n",
       "      <td>21</td>\n",
       "      <td>Robert Luketic</td>\n",
       "      <td>Jim Sturgess, Kevin Spacey, Kate Bosworth, Aar...</td>\n",
       "      <td>United States</td>\n",
       "      <td>January 1, 2020</td>\n",
       "      <td>2008</td>\n",
       "      <td>123</td>\n",
       "      <td>A brilliant group of students become card-coun...</td>\n",
       "      <td>Dramas</td>\n",
       "    </tr>\n",
       "  </tbody>\n",
       "</table>\n",
       "</div>"
      ],
      "text/plain": [
       "  show_id     type  title           director  \\\n",
       "0      s1  TV Show     3%                NaN   \n",
       "1      s2    Movie   7:19  Jorge Michel Grau   \n",
       "2      s3    Movie  23:59       Gilbert Chan   \n",
       "3      s4    Movie      9        Shane Acker   \n",
       "4      s5    Movie     21     Robert Luketic   \n",
       "\n",
       "                                                cast        country  \\\n",
       "0  João Miguel, Bianca Comparato, Michel Gomes, R...         Brazil   \n",
       "1  Demián Bichir, Héctor Bonilla, Oscar Serrano, ...         Mexico   \n",
       "2  Tedd Chan, Stella Chung, Henley Hii, Lawrence ...      Singapore   \n",
       "3  Elijah Wood, John C. Reilly, Jennifer Connelly...  United States   \n",
       "4  Jim Sturgess, Kevin Spacey, Kate Bosworth, Aar...  United States   \n",
       "\n",
       "          date_added  release_year  duration  \\\n",
       "0    August 14, 2020          2020         4   \n",
       "1  December 23, 2016          2016        93   \n",
       "2  December 20, 2018          2011        78   \n",
       "3  November 16, 2017          2009        80   \n",
       "4    January 1, 2020          2008       123   \n",
       "\n",
       "                                         description             genre  \n",
       "0  In a future where the elite inhabit an island ...  International TV  \n",
       "1  After a devastating earthquake hits Mexico Cit...            Dramas  \n",
       "2  When an army recruit is found dead, his fellow...     Horror Movies  \n",
       "3  In a postapocalyptic world, rag-doll robots hi...            Action  \n",
       "4  A brilliant group of students become card-coun...            Dramas  "
      ]
     },
     "execution_count": 4,
     "metadata": {},
     "output_type": "execute_result"
    }
   ],
   "source": [
    "# Import the CSV file\n",
    "\n",
    "netflix_df = pd.read_csv('Resources/netflix_data.csv')\n",
    "netflix_df.head()"
   ]
  },
  {
   "cell_type": "code",
   "execution_count": 5,
   "id": "b2b8dca8",
   "metadata": {},
   "outputs": [
    {
     "data": {
      "text/html": [
       "<div>\n",
       "<style scoped>\n",
       "    .dataframe tbody tr th:only-of-type {\n",
       "        vertical-align: middle;\n",
       "    }\n",
       "\n",
       "    .dataframe tbody tr th {\n",
       "        vertical-align: top;\n",
       "    }\n",
       "\n",
       "    .dataframe thead th {\n",
       "        text-align: right;\n",
       "    }\n",
       "</style>\n",
       "<table border=\"1\" class=\"dataframe\">\n",
       "  <thead>\n",
       "    <tr style=\"text-align: right;\">\n",
       "      <th></th>\n",
       "      <th>Title</th>\n",
       "      <th>Country</th>\n",
       "      <th>Date Added</th>\n",
       "      <th>Genre</th>\n",
       "    </tr>\n",
       "  </thead>\n",
       "  <tbody>\n",
       "    <tr>\n",
       "      <th>1</th>\n",
       "      <td>7:19</td>\n",
       "      <td>Mexico</td>\n",
       "      <td>December 23, 2016</td>\n",
       "      <td>Dramas</td>\n",
       "    </tr>\n",
       "    <tr>\n",
       "      <th>2</th>\n",
       "      <td>23:59</td>\n",
       "      <td>Singapore</td>\n",
       "      <td>December 20, 2018</td>\n",
       "      <td>Horror Movies</td>\n",
       "    </tr>\n",
       "    <tr>\n",
       "      <th>3</th>\n",
       "      <td>9</td>\n",
       "      <td>United States</td>\n",
       "      <td>November 16, 2017</td>\n",
       "      <td>Action</td>\n",
       "    </tr>\n",
       "    <tr>\n",
       "      <th>4</th>\n",
       "      <td>21</td>\n",
       "      <td>United States</td>\n",
       "      <td>January 1, 2020</td>\n",
       "      <td>Dramas</td>\n",
       "    </tr>\n",
       "    <tr>\n",
       "      <th>6</th>\n",
       "      <td>122</td>\n",
       "      <td>Egypt</td>\n",
       "      <td>June 1, 2020</td>\n",
       "      <td>Horror Movies</td>\n",
       "    </tr>\n",
       "  </tbody>\n",
       "</table>\n",
       "</div>"
      ],
      "text/plain": [
       "   Title        Country         Date Added          Genre\n",
       "1   7:19         Mexico  December 23, 2016         Dramas\n",
       "2  23:59      Singapore  December 20, 2018  Horror Movies\n",
       "3      9  United States  November 16, 2017         Action\n",
       "4     21  United States    January 1, 2020         Dramas\n",
       "6    122          Egypt       June 1, 2020  Horror Movies"
      ]
     },
     "execution_count": 5,
     "metadata": {},
     "output_type": "execute_result"
    }
   ],
   "source": [
    "# Filter for Movies only. Drop unnecessary columns and rename the remaining columns.\n",
    "\n",
    "movie_df = netflix_df.loc[netflix_df['type'] == 'Movie']\n",
    "movie_df = movie_df[['title', 'country', 'date_added', 'genre']]\n",
    "movie_df = movie_df.rename(columns={'title':'Title', 'country':'Country', 'date_added':'Date Added', 'genre':'Genre'})\n",
    "movie_df.head()"
   ]
  },
  {
   "cell_type": "code",
   "execution_count": 6,
   "id": "115888a2",
   "metadata": {},
   "outputs": [
    {
     "name": "stdout",
     "output_type": "stream",
     "text": [
      "<class 'pandas.core.frame.DataFrame'>\n",
      "Int64Index: 5377 entries, 1 to 7786\n",
      "Data columns (total 4 columns):\n",
      " #   Column      Non-Null Count  Dtype \n",
      "---  ------      --------------  ----- \n",
      " 0   Title       5377 non-null   object\n",
      " 1   Country     5147 non-null   object\n",
      " 2   Date Added  5377 non-null   object\n",
      " 3   Genre       5377 non-null   object\n",
      "dtypes: object(4)\n",
      "memory usage: 210.0+ KB\n"
     ]
    }
   ],
   "source": [
    "# Check for the number of non-null values for all columns as well as their data types.\n",
    "\n",
    "movie_df.info()"
   ]
  },
  {
   "cell_type": "code",
   "execution_count": 7,
   "id": "bf9a722f",
   "metadata": {},
   "outputs": [
    {
     "data": {
      "text/html": [
       "<div>\n",
       "<style scoped>\n",
       "    .dataframe tbody tr th:only-of-type {\n",
       "        vertical-align: middle;\n",
       "    }\n",
       "\n",
       "    .dataframe tbody tr th {\n",
       "        vertical-align: top;\n",
       "    }\n",
       "\n",
       "    .dataframe thead th {\n",
       "        text-align: right;\n",
       "    }\n",
       "</style>\n",
       "<table border=\"1\" class=\"dataframe\">\n",
       "  <thead>\n",
       "    <tr style=\"text-align: right;\">\n",
       "      <th></th>\n",
       "      <th>Title</th>\n",
       "      <th>Country</th>\n",
       "      <th>Date Added</th>\n",
       "      <th>Genre</th>\n",
       "    </tr>\n",
       "  </thead>\n",
       "  <tbody>\n",
       "    <tr>\n",
       "      <th>count</th>\n",
       "      <td>5377</td>\n",
       "      <td>5147</td>\n",
       "      <td>5377</td>\n",
       "      <td>5377</td>\n",
       "    </tr>\n",
       "    <tr>\n",
       "      <th>unique</th>\n",
       "      <td>5377</td>\n",
       "      <td>74</td>\n",
       "      <td>1350</td>\n",
       "      <td>19</td>\n",
       "    </tr>\n",
       "    <tr>\n",
       "      <th>top</th>\n",
       "      <td>7:19</td>\n",
       "      <td>United States</td>\n",
       "      <td>January 1, 2020</td>\n",
       "      <td>Dramas</td>\n",
       "    </tr>\n",
       "    <tr>\n",
       "      <th>freq</th>\n",
       "      <td>1</td>\n",
       "      <td>2100</td>\n",
       "      <td>105</td>\n",
       "      <td>1384</td>\n",
       "    </tr>\n",
       "  </tbody>\n",
       "</table>\n",
       "</div>"
      ],
      "text/plain": [
       "       Title        Country       Date Added   Genre\n",
       "count   5377           5147             5377    5377\n",
       "unique  5377             74             1350      19\n",
       "top     7:19  United States  January 1, 2020  Dramas\n",
       "freq       1           2100              105    1384"
      ]
     },
     "execution_count": 7,
     "metadata": {},
     "output_type": "execute_result"
    }
   ],
   "source": [
    "# Explore the DataFrame\n",
    "\n",
    "movie_df.describe()"
   ]
  },
  {
   "cell_type": "code",
   "execution_count": 8,
   "id": "a8c97876",
   "metadata": {},
   "outputs": [],
   "source": [
    "# Drop null values\n",
    "\n",
    "movie_df = movie_df.dropna()"
   ]
  },
  {
   "cell_type": "code",
   "execution_count": 9,
   "id": "a31c7309",
   "metadata": {},
   "outputs": [
    {
     "data": {
      "text/plain": [
       "Dramas                  1353\n",
       "Comedies                1048\n",
       "Documentaries            709\n",
       "Action                   706\n",
       "Children                 449\n",
       "Stand-Up                 293\n",
       "Horror Movies            240\n",
       "International Movies     105\n",
       "Classic Movies            77\n",
       "Thrillers                 49\n",
       "Uncategorized             37\n",
       "Independent Movies        20\n",
       "Anime Features            19\n",
       "Music                     14\n",
       "Cult Movies               12\n",
       "Sci-Fi                    11\n",
       "Romantic Movies            3\n",
       "Sports Movies              1\n",
       "LGBTQ Movies               1\n",
       "Name: Genre, dtype: int64"
      ]
     },
     "execution_count": 9,
     "metadata": {},
     "output_type": "execute_result"
    }
   ],
   "source": [
    "# Count the number of movies in each genre and store the genre and count in a variable\n",
    "\n",
    "genre_count = movie_df['Genre'].value_counts()\n",
    "genre_count"
   ]
  },
  {
   "cell_type": "code",
   "execution_count": 10,
   "id": "0258e8ec",
   "metadata": {},
   "outputs": [
    {
     "name": "stdout",
     "output_type": "stream",
     "text": [
      "['Classic Movies', 'Thrillers', 'Uncategorized', 'Independent Movies', 'Anime Features', 'Music', 'Cult Movies', 'Sci-Fi', 'Romantic Movies', 'Sports Movies', 'LGBTQ Movies']\n"
     ]
    }
   ],
   "source": [
    "# Iterate over the value counts Series and append genres with less than 100 count to an empty list\n",
    "\n",
    "minor_genre = []\n",
    "for index, value in genre_count.items():\n",
    "    if value<100:\n",
    "        minor_genre.append(index)\n",
    "        \n",
    "print(minor_genre)"
   ]
  },
  {
   "cell_type": "code",
   "execution_count": 11,
   "id": "7aa99a61",
   "metadata": {},
   "outputs": [
    {
     "name": "stdout",
     "output_type": "stream",
     "text": [
      "Dramas                  1353\n",
      "Comedies                1048\n",
      "Documentaries            709\n",
      "Action                   706\n",
      "Children                 449\n",
      "Stand-Up                 293\n",
      "Other                    244\n",
      "Horror Movies            240\n",
      "International Movies     105\n",
      "Name: Genre, dtype: int64\n"
     ]
    }
   ],
   "source": [
    "# Use a custom function and apply it to the Genre column to replace the minor genres to \"Other\"\n",
    "\n",
    "def replace_genre(genre):\n",
    "    if genre in minor_genre:\n",
    "        return 'Other'\n",
    "    else:\n",
    "        return genre\n",
    "    \n",
    "movie_df['Genre'] = (movie_df['Genre']).apply(replace_genre)\n",
    "print(movie_df['Genre'].value_counts())"
   ]
  },
  {
   "cell_type": "code",
   "execution_count": 12,
   "id": "ed9c4139",
   "metadata": {},
   "outputs": [
    {
     "data": {
      "text/html": [
       "<div>\n",
       "<style scoped>\n",
       "    .dataframe tbody tr th:only-of-type {\n",
       "        vertical-align: middle;\n",
       "    }\n",
       "\n",
       "    .dataframe tbody tr th {\n",
       "        vertical-align: top;\n",
       "    }\n",
       "\n",
       "    .dataframe thead th {\n",
       "        text-align: right;\n",
       "    }\n",
       "</style>\n",
       "<table border=\"1\" class=\"dataframe\">\n",
       "  <thead>\n",
       "    <tr style=\"text-align: right;\">\n",
       "      <th></th>\n",
       "      <th>Title</th>\n",
       "      <th>Country</th>\n",
       "      <th>Genre</th>\n",
       "      <th>Month Added</th>\n",
       "      <th>Year Added</th>\n",
       "    </tr>\n",
       "  </thead>\n",
       "  <tbody>\n",
       "    <tr>\n",
       "      <th>1</th>\n",
       "      <td>7:19</td>\n",
       "      <td>Mexico</td>\n",
       "      <td>Dramas</td>\n",
       "      <td>12</td>\n",
       "      <td>2016</td>\n",
       "    </tr>\n",
       "    <tr>\n",
       "      <th>2</th>\n",
       "      <td>23:59</td>\n",
       "      <td>Singapore</td>\n",
       "      <td>Horror Movies</td>\n",
       "      <td>12</td>\n",
       "      <td>2018</td>\n",
       "    </tr>\n",
       "    <tr>\n",
       "      <th>3</th>\n",
       "      <td>9</td>\n",
       "      <td>United States</td>\n",
       "      <td>Action</td>\n",
       "      <td>11</td>\n",
       "      <td>2017</td>\n",
       "    </tr>\n",
       "    <tr>\n",
       "      <th>4</th>\n",
       "      <td>21</td>\n",
       "      <td>United States</td>\n",
       "      <td>Dramas</td>\n",
       "      <td>1</td>\n",
       "      <td>2020</td>\n",
       "    </tr>\n",
       "    <tr>\n",
       "      <th>6</th>\n",
       "      <td>122</td>\n",
       "      <td>Egypt</td>\n",
       "      <td>Horror Movies</td>\n",
       "      <td>6</td>\n",
       "      <td>2020</td>\n",
       "    </tr>\n",
       "  </tbody>\n",
       "</table>\n",
       "</div>"
      ],
      "text/plain": [
       "   Title        Country          Genre  Month Added  Year Added\n",
       "1   7:19         Mexico         Dramas           12        2016\n",
       "2  23:59      Singapore  Horror Movies           12        2018\n",
       "3      9  United States         Action           11        2017\n",
       "4     21  United States         Dramas            1        2020\n",
       "6    122          Egypt  Horror Movies            6        2020"
      ]
     },
     "execution_count": 12,
     "metadata": {},
     "output_type": "execute_result"
    }
   ],
   "source": [
    "# Separate the Date Added column to Year Added and Month Added\n",
    "\n",
    "movie_df['Date Added'] = pd.to_datetime(movie_df['Date Added'])\n",
    "movie_df['Month Added'] = movie_df['Date Added'].dt.month\n",
    "movie_df['Year Added'] = movie_df['Date Added'].dt.year\n",
    "del movie_df['Date Added']\n",
    "\n",
    "\n",
    "movie_df.head()"
   ]
  },
  {
   "cell_type": "code",
   "execution_count": 27,
   "id": "643b8ead",
   "metadata": {},
   "outputs": [
    {
     "data": {
      "image/png": "[encoded data removed]",
      "text/plain": [
       "<Figure size 1296x432 with 1 Axes>"
      ]
     },
     "metadata": {
      "needs_background": "light"
     },
     "output_type": "display_data"
    }
   ],
   "source": [
    "# Plot a bar graph showing the count of each genre\n",
    "\n",
    "genre_count = movie_df['Genre'].value_counts()\n",
    "\n",
    "plt.figure(1, figsize=(18,6))\n",
    "plt.bar(genre_count.index, genre_count.values, align='center', color = 'green')\n",
    "plt.xticks(rotation=90)\n",
    "plt.xlabel('Netflix Movie Genre')\n",
    "plt.ylabel('Count')\n",
    "plt.title('Number of Movie Genres Released from 2008 to 2021')\n",
    "plt.show()"
   ]
  },
  {
   "cell_type": "code",
   "execution_count": 28,
   "id": "a5c4e53d",
   "metadata": {},
   "outputs": [
    {
     "data": {
      "image/png": "[encoded data removed]",
      "text/plain": [
       "<Figure size 1008x576 with 1 Axes>"
      ]
     },
     "metadata": {
      "needs_background": "light"
     },
     "output_type": "display_data"
    }
   ],
   "source": [
    "# Plot a line graph showing the number of movies released each year\n",
    "\n",
    "year_count = movie_df['Year Added'].value_counts()\n",
    "year_count = year_count.reset_index()\n",
    "year_count = year_count.rename(columns = {'index':'Year Added', 'Year Added':'Movie Count'})\n",
    "year_count = year_count.sort_values('Year Added')\n",
    "\n",
    "plt.figure(2, figsize=(14,8))\n",
    "plt.plot(year_count['Year Added'], year_count['Movie Count'], linewidth = 3, color='red')\n",
    "plt.hlines(700,0,2021, alpha=0.8)\n",
    "plt.xlim(2008, 2021)\n",
    "plt.ylim(0)\n",
    "plt.xlabel('Year')\n",
    "plt.ylabel('Movie Count')\n",
    "plt.title('Number of Movies Released vs. Year')\n",
    "plt.show()"
   ]
  },
  {
   "cell_type": "code",
   "execution_count": 22,
   "id": "25f3b726",
   "metadata": {},
   "outputs": [
    {
     "data": {
      "text/plain": [
       "([<matplotlib.patches.Wedge at 0x21ccc1c7880>,\n",
       "  <matplotlib.patches.Wedge at 0x21ccc1c7fa0>,\n",
       "  <matplotlib.patches.Wedge at 0x21ccc1d7700>,\n",
       "  <matplotlib.patches.Wedge at 0x21ccc1d7e20>,\n",
       "  <matplotlib.patches.Wedge at 0x21ccc1e2580>,\n",
       "  <matplotlib.patches.Wedge at 0x21ccc1e2ca0>,\n",
       "  <matplotlib.patches.Wedge at 0x21ccc1ef430>,\n",
       "  <matplotlib.patches.Wedge at 0x21ccc1efb80>,\n",
       "  <matplotlib.patches.Wedge at 0x21ccc1fc2e0>,\n",
       "  <matplotlib.patches.Wedge at 0x21ccc1fca00>,\n",
       "  <matplotlib.patches.Wedge at 0x21ccc1c7850>,\n",
       "  <matplotlib.patches.Wedge at 0x21ccc209850>],\n",
       " [Text(-1.024929576885113, 0.39939875115741585, '1'),\n",
       "  Text(-1.0583611384620304, -0.2997860913941056, '10'),\n",
       "  Text(-0.6696301388169861, -0.8726943778826262, '12'),\n",
       "  Text(-0.03576493234537288, -1.0994184233558808, '11'),\n",
       "  Text(0.5724552698163266, -0.9393055754436449, '3'),\n",
       "  Text(0.9664308539173396, -0.525367875489739, '4'),\n",
       "  Text(1.0999665452572907, -0.008579004297753207, '7'),\n",
       "  Text(0.978832218479884, 0.5018839388401952, '8'),\n",
       "  Text(0.6410531964596087, 0.8938964141940153, '9'),\n",
       "  Text(0.18130764648497022, 1.0849550853957417, '6'),\n",
       "  Text(-0.291702525114093, 1.0606175733232324, '5'),\n",
       "  Text(-0.6888757925316478, 0.8575838982069884, '2')],\n",
       " [Text(-0.5590524964827889, 0.21785386426768136, '10.4%'),\n",
       "  Text(-0.577287893706562, -0.16351968621496668, '10.2%'),\n",
       "  Text(-0.3652528029910833, -0.4760151152087051, '10.2%'),\n",
       "  Text(-0.019508144915657933, -0.5996827763759349, '9.6%'),\n",
       "  Text(0.3122483289907236, -0.5123484956965335, '8.8%'),\n",
       "  Text(0.5271441021367307, -0.2865642957216758, '7.9%'),\n",
       "  Text(0.5999817519585221, -0.004679456889683567, '7.7%'),\n",
       "  Text(0.5339084828072094, 0.27375487573101553, '7.6%'),\n",
       "  Text(0.3496653798870592, 0.48757986228764466, '7.5%'),\n",
       "  Text(0.09889507990089283, 0.5917936829431318, '7.1%'),\n",
       "  Text(-0.15911046824405073, 0.5785186763581266, '6.8%'),\n",
       "  Text(-0.37575043228998967, 0.46777303538563, '6.2%')])"
      ]
     },
     "execution_count": 22,
     "metadata": {},
     "output_type": "execute_result"
    },
    {
     "data": {
      "image/png": "[encoded data removed]",
      "text/plain": [
       "<Figure size 864x864 with 1 Axes>"
      ]
     },
     "metadata": {},
     "output_type": "display_data"
    }
   ],
   "source": [
    "# Plot a histogram showing the distribution of movie releases across different months\n",
    "\n",
    "month_count = movie_df['Month Added'].value_counts()\n",
    "\n",
    "plt.figure(3, figsize=(12,12))\n",
    "plt.pie(month_count.values, labels=month_count.index, autopct='%1.1f%%', startangle=140)\n",
    "plt.show()"
   ]
  },
  {
   "cell_type": "code",
   "execution_count": null,
   "id": "0ce6e173",
   "metadata": {},
   "outputs": [],
   "source": [
    "# Change numerical months to string months"
   ]
  }
 ],
 "metadata": {
  "kernelspec": {
   "display_name": "Python 3 (ipykernel)",
   "language": "python",
   "name": "python3"
  },
  "language_info": {
   "codemirror_mode": {
    "name": "ipython",
    "version": 3
   },
   "file_extension": ".py",
   "mimetype": "text/x-python",
   "name": "python",
   "nbconvert_exporter": "python",
   "pygments_lexer": "ipython3",
   "version": "3.9.12"
  }
 },
 "nbformat": 4,
 "nbformat_minor": 5
}
