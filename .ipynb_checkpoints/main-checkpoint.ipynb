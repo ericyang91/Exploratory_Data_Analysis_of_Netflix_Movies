{
 "cells": [
  {
   "cell_type": "markdown",
   "id": "082571a7",
   "metadata": {},
   "source": [
    "# <center>Netflix Content Distribution and Trends</center>"
   ]
  },
  {
   "cell_type": "markdown",
   "id": "1719c004",
   "metadata": {},
   "source": [
    "The primary objective of this project is to conduct a comprehensive analysis of the distribution of movie genres on Netflix across different countries and to visualize the evolving trends over the years. Leveraging the power of Python for Exploratory Data Analysis (EDA) and Tableau for creating an interactive dashboard, the project aims to provide insights into the diverse preferences of audiences worldwide.\n",
    "\n",
    "To achieve this, the project delves into the vast Netflix dataset, exploring the prevalence of genres in different regions and how these preferences have changed over time. By utilizing Python's data manipulation and visualization libraries, the analysis uncovers patterns, disparities, and emerging trends in movie genre consumption.\n",
    "\n",
    "The Tableau dashboard created as part of this project serves as a visual representation of the findings, offering an intuitive and interactive platform for users to explore and understand the nuanced dynamics of movie genre distribution across countries. Through this visualization, users can gain valuable insights into the evolution of entertainment preferences on Netflix, identifying patterns that may be influenced by cultural factors, global events, or the platform's own content strategy.\n",
    "\n",
    "In conclusion, this project not only contributes to a deeper understanding of global entertainment consumption but also showcases the powerful synergy between Python for data analysis and Tableau for visualization in uncovering intricate patterns within large and dynamic datasets. By shedding light on the evolving landscape of movie genres on Netflix, the analysis provides a valuable resource for content creators, analysts, and enthusiasts seeking to stay abreast of the ever-changing world of digital entertainment."
   ]
  },
  {
   "cell_type": "markdown",
   "id": "6d3908d0",
   "metadata": {},
   "source": [
    "## Exploratory Data Analysis"
   ]
  },
  {
   "cell_type": "code",
   "execution_count": 163,
   "id": "0701873b",
   "metadata": {},
   "outputs": [],
   "source": [
    "# Import dependencies\n",
    "\n",
    "import pandas as pd\n",
    "import matplotlib.pyplot as plt\n",
    "%matplotlib notebook\n",
    "import plotly.express as px"
   ]
  },
  {
   "cell_type": "code",
   "execution_count": 97,
   "id": "f12da6fa",
   "metadata": {},
   "outputs": [
    {
     "data": {
      "text/html": [
       "<div>\n",
       "<style scoped>\n",
       "    .dataframe tbody tr th:only-of-type {\n",
       "        vertical-align: middle;\n",
       "    }\n",
       "\n",
       "    .dataframe tbody tr th {\n",
       "        vertical-align: top;\n",
       "    }\n",
       "\n",
       "    .dataframe thead th {\n",
       "        text-align: right;\n",
       "    }\n",
       "</style>\n",
       "<table border=\"1\" class=\"dataframe\">\n",
       "  <thead>\n",
       "    <tr style=\"text-align: right;\">\n",
       "      <th></th>\n",
       "      <th>show_id</th>\n",
       "      <th>type</th>\n",
       "      <th>title</th>\n",
       "      <th>director</th>\n",
       "      <th>cast</th>\n",
       "      <th>country</th>\n",
       "      <th>date_added</th>\n",
       "      <th>release_year</th>\n",
       "      <th>duration</th>\n",
       "      <th>description</th>\n",
       "      <th>genre</th>\n",
       "    </tr>\n",
       "  </thead>\n",
       "  <tbody>\n",
       "    <tr>\n",
       "      <th>0</th>\n",
       "      <td>s1</td>\n",
       "      <td>TV Show</td>\n",
       "      <td>3%</td>\n",
       "      <td>NaN</td>\n",
       "      <td>João Miguel, Bianca Comparato, Michel Gomes, R...</td>\n",
       "      <td>Brazil</td>\n",
       "      <td>August 14, 2020</td>\n",
       "      <td>2020</td>\n",
       "      <td>4</td>\n",
       "      <td>In a future where the elite inhabit an island ...</td>\n",
       "      <td>International TV</td>\n",
       "    </tr>\n",
       "    <tr>\n",
       "      <th>1</th>\n",
       "      <td>s2</td>\n",
       "      <td>Movie</td>\n",
       "      <td>7:19</td>\n",
       "      <td>Jorge Michel Grau</td>\n",
       "      <td>Demián Bichir, Héctor Bonilla, Oscar Serrano, ...</td>\n",
       "      <td>Mexico</td>\n",
       "      <td>December 23, 2016</td>\n",
       "      <td>2016</td>\n",
       "      <td>93</td>\n",
       "      <td>After a devastating earthquake hits Mexico Cit...</td>\n",
       "      <td>Dramas</td>\n",
       "    </tr>\n",
       "    <tr>\n",
       "      <th>2</th>\n",
       "      <td>s3</td>\n",
       "      <td>Movie</td>\n",
       "      <td>23:59</td>\n",
       "      <td>Gilbert Chan</td>\n",
       "      <td>Tedd Chan, Stella Chung, Henley Hii, Lawrence ...</td>\n",
       "      <td>Singapore</td>\n",
       "      <td>December 20, 2018</td>\n",
       "      <td>2011</td>\n",
       "      <td>78</td>\n",
       "      <td>When an army recruit is found dead, his fellow...</td>\n",
       "      <td>Horror Movies</td>\n",
       "    </tr>\n",
       "    <tr>\n",
       "      <th>3</th>\n",
       "      <td>s4</td>\n",
       "      <td>Movie</td>\n",
       "      <td>9</td>\n",
       "      <td>Shane Acker</td>\n",
       "      <td>Elijah Wood, John C. Reilly, Jennifer Connelly...</td>\n",
       "      <td>United States</td>\n",
       "      <td>November 16, 2017</td>\n",
       "      <td>2009</td>\n",
       "      <td>80</td>\n",
       "      <td>In a postapocalyptic world, rag-doll robots hi...</td>\n",
       "      <td>Action</td>\n",
       "    </tr>\n",
       "    <tr>\n",
       "      <th>4</th>\n",
       "      <td>s5</td>\n",
       "      <td>Movie</td>\n",
       "      <td>21</td>\n",
       "      <td>Robert Luketic</td>\n",
       "      <td>Jim Sturgess, Kevin Spacey, Kate Bosworth, Aar...</td>\n",
       "      <td>United States</td>\n",
       "      <td>January 1, 2020</td>\n",
       "      <td>2008</td>\n",
       "      <td>123</td>\n",
       "      <td>A brilliant group of students become card-coun...</td>\n",
       "      <td>Dramas</td>\n",
       "    </tr>\n",
       "  </tbody>\n",
       "</table>\n",
       "</div>"
      ],
      "text/plain": [
       "  show_id     type  title           director  \\\n",
       "0      s1  TV Show     3%                NaN   \n",
       "1      s2    Movie   7:19  Jorge Michel Grau   \n",
       "2      s3    Movie  23:59       Gilbert Chan   \n",
       "3      s4    Movie      9        Shane Acker   \n",
       "4      s5    Movie     21     Robert Luketic   \n",
       "\n",
       "                                                cast        country  \\\n",
       "0  João Miguel, Bianca Comparato, Michel Gomes, R...         Brazil   \n",
       "1  Demián Bichir, Héctor Bonilla, Oscar Serrano, ...         Mexico   \n",
       "2  Tedd Chan, Stella Chung, Henley Hii, Lawrence ...      Singapore   \n",
       "3  Elijah Wood, John C. Reilly, Jennifer Connelly...  United States   \n",
       "4  Jim Sturgess, Kevin Spacey, Kate Bosworth, Aar...  United States   \n",
       "\n",
       "          date_added  release_year  duration  \\\n",
       "0    August 14, 2020          2020         4   \n",
       "1  December 23, 2016          2016        93   \n",
       "2  December 20, 2018          2011        78   \n",
       "3  November 16, 2017          2009        80   \n",
       "4    January 1, 2020          2008       123   \n",
       "\n",
       "                                         description             genre  \n",
       "0  In a future where the elite inhabit an island ...  International TV  \n",
       "1  After a devastating earthquake hits Mexico Cit...            Dramas  \n",
       "2  When an army recruit is found dead, his fellow...     Horror Movies  \n",
       "3  In a postapocalyptic world, rag-doll robots hi...            Action  \n",
       "4  A brilliant group of students become card-coun...            Dramas  "
      ]
     },
     "execution_count": 97,
     "metadata": {},
     "output_type": "execute_result"
    }
   ],
   "source": [
    "# Import the CSV file\n",
    "\n",
    "netflix_df = pd.read_csv('Resources/netflix_data.csv')\n",
    "netflix_df.head()"
   ]
  },
  {
   "cell_type": "code",
   "execution_count": 98,
   "id": "b2b8dca8",
   "metadata": {},
   "outputs": [
    {
     "data": {
      "text/html": [
       "<div>\n",
       "<style scoped>\n",
       "    .dataframe tbody tr th:only-of-type {\n",
       "        vertical-align: middle;\n",
       "    }\n",
       "\n",
       "    .dataframe tbody tr th {\n",
       "        vertical-align: top;\n",
       "    }\n",
       "\n",
       "    .dataframe thead th {\n",
       "        text-align: right;\n",
       "    }\n",
       "</style>\n",
       "<table border=\"1\" class=\"dataframe\">\n",
       "  <thead>\n",
       "    <tr style=\"text-align: right;\">\n",
       "      <th></th>\n",
       "      <th>Title</th>\n",
       "      <th>Country</th>\n",
       "      <th>Date Added</th>\n",
       "      <th>Genre</th>\n",
       "    </tr>\n",
       "  </thead>\n",
       "  <tbody>\n",
       "    <tr>\n",
       "      <th>1</th>\n",
       "      <td>7:19</td>\n",
       "      <td>Mexico</td>\n",
       "      <td>December 23, 2016</td>\n",
       "      <td>Dramas</td>\n",
       "    </tr>\n",
       "    <tr>\n",
       "      <th>2</th>\n",
       "      <td>23:59</td>\n",
       "      <td>Singapore</td>\n",
       "      <td>December 20, 2018</td>\n",
       "      <td>Horror Movies</td>\n",
       "    </tr>\n",
       "    <tr>\n",
       "      <th>3</th>\n",
       "      <td>9</td>\n",
       "      <td>United States</td>\n",
       "      <td>November 16, 2017</td>\n",
       "      <td>Action</td>\n",
       "    </tr>\n",
       "    <tr>\n",
       "      <th>4</th>\n",
       "      <td>21</td>\n",
       "      <td>United States</td>\n",
       "      <td>January 1, 2020</td>\n",
       "      <td>Dramas</td>\n",
       "    </tr>\n",
       "    <tr>\n",
       "      <th>6</th>\n",
       "      <td>122</td>\n",
       "      <td>Egypt</td>\n",
       "      <td>June 1, 2020</td>\n",
       "      <td>Horror Movies</td>\n",
       "    </tr>\n",
       "  </tbody>\n",
       "</table>\n",
       "</div>"
      ],
      "text/plain": [
       "   Title        Country         Date Added          Genre\n",
       "1   7:19         Mexico  December 23, 2016         Dramas\n",
       "2  23:59      Singapore  December 20, 2018  Horror Movies\n",
       "3      9  United States  November 16, 2017         Action\n",
       "4     21  United States    January 1, 2020         Dramas\n",
       "6    122          Egypt       June 1, 2020  Horror Movies"
      ]
     },
     "execution_count": 98,
     "metadata": {},
     "output_type": "execute_result"
    }
   ],
   "source": [
    "# Filter for Movies only. Drop unnecessary columns and rename the remaining columns.\n",
    "\n",
    "movie_df = netflix_df.loc[netflix_df['type'] == 'Movie']\n",
    "movie_df = movie_df[['title', 'country', 'date_added', 'genre']]\n",
    "movie_df = movie_df.rename(columns={'title':'Title', 'country':'Country', 'date_added':'Date Added', 'genre':'Genre'})\n",
    "movie_df.head()"
   ]
  },
  {
   "cell_type": "code",
   "execution_count": 99,
   "id": "115888a2",
   "metadata": {},
   "outputs": [
    {
     "name": "stdout",
     "output_type": "stream",
     "text": [
      "<class 'pandas.core.frame.DataFrame'>\n",
      "Int64Index: 5377 entries, 1 to 7786\n",
      "Data columns (total 4 columns):\n",
      " #   Column      Non-Null Count  Dtype \n",
      "---  ------      --------------  ----- \n",
      " 0   Title       5377 non-null   object\n",
      " 1   Country     5147 non-null   object\n",
      " 2   Date Added  5377 non-null   object\n",
      " 3   Genre       5377 non-null   object\n",
      "dtypes: object(4)\n",
      "memory usage: 210.0+ KB\n"
     ]
    }
   ],
   "source": [
    "# Check for the number of non-null values for all columns as well as their data types.\n",
    "\n",
    "movie_df.info()"
   ]
  },
  {
   "cell_type": "code",
   "execution_count": 100,
   "id": "bf9a722f",
   "metadata": {},
   "outputs": [
    {
     "data": {
      "text/html": [
       "<div>\n",
       "<style scoped>\n",
       "    .dataframe tbody tr th:only-of-type {\n",
       "        vertical-align: middle;\n",
       "    }\n",
       "\n",
       "    .dataframe tbody tr th {\n",
       "        vertical-align: top;\n",
       "    }\n",
       "\n",
       "    .dataframe thead th {\n",
       "        text-align: right;\n",
       "    }\n",
       "</style>\n",
       "<table border=\"1\" class=\"dataframe\">\n",
       "  <thead>\n",
       "    <tr style=\"text-align: right;\">\n",
       "      <th></th>\n",
       "      <th>Title</th>\n",
       "      <th>Country</th>\n",
       "      <th>Date Added</th>\n",
       "      <th>Genre</th>\n",
       "    </tr>\n",
       "  </thead>\n",
       "  <tbody>\n",
       "    <tr>\n",
       "      <th>count</th>\n",
       "      <td>5377</td>\n",
       "      <td>5147</td>\n",
       "      <td>5377</td>\n",
       "      <td>5377</td>\n",
       "    </tr>\n",
       "    <tr>\n",
       "      <th>unique</th>\n",
       "      <td>5377</td>\n",
       "      <td>74</td>\n",
       "      <td>1350</td>\n",
       "      <td>19</td>\n",
       "    </tr>\n",
       "    <tr>\n",
       "      <th>top</th>\n",
       "      <td>7:19</td>\n",
       "      <td>United States</td>\n",
       "      <td>January 1, 2020</td>\n",
       "      <td>Dramas</td>\n",
       "    </tr>\n",
       "    <tr>\n",
       "      <th>freq</th>\n",
       "      <td>1</td>\n",
       "      <td>2100</td>\n",
       "      <td>105</td>\n",
       "      <td>1384</td>\n",
       "    </tr>\n",
       "  </tbody>\n",
       "</table>\n",
       "</div>"
      ],
      "text/plain": [
       "       Title        Country       Date Added   Genre\n",
       "count   5377           5147             5377    5377\n",
       "unique  5377             74             1350      19\n",
       "top     7:19  United States  January 1, 2020  Dramas\n",
       "freq       1           2100              105    1384"
      ]
     },
     "execution_count": 100,
     "metadata": {},
     "output_type": "execute_result"
    }
   ],
   "source": [
    "# Explore the DataFrame\n",
    "\n",
    "movie_df.describe()"
   ]
  },
  {
   "cell_type": "code",
   "execution_count": 101,
   "id": "a8c97876",
   "metadata": {},
   "outputs": [],
   "source": [
    "# Drop null values\n",
    "\n",
    "movie_df = movie_df.dropna()"
   ]
  },
  {
   "cell_type": "code",
   "execution_count": 102,
   "id": "a31c7309",
   "metadata": {},
   "outputs": [
    {
     "data": {
      "text/plain": [
       "Dramas                  1353\n",
       "Comedies                1048\n",
       "Documentaries            709\n",
       "Action                   706\n",
       "Children                 449\n",
       "Stand-Up                 293\n",
       "Horror Movies            240\n",
       "International Movies     105\n",
       "Classic Movies            77\n",
       "Thrillers                 49\n",
       "Uncategorized             37\n",
       "Independent Movies        20\n",
       "Anime Features            19\n",
       "Music                     14\n",
       "Cult Movies               12\n",
       "Sci-Fi                    11\n",
       "Romantic Movies            3\n",
       "Sports Movies              1\n",
       "LGBTQ Movies               1\n",
       "Name: Genre, dtype: int64"
      ]
     },
     "execution_count": 102,
     "metadata": {},
     "output_type": "execute_result"
    }
   ],
   "source": [
    "# Count the number of movies in each genre and store the genre and count in a variable\n",
    "\n",
    "genre_count = movie_df['Genre'].value_counts()\n",
    "genre_count"
   ]
  },
  {
   "cell_type": "code",
   "execution_count": 103,
   "id": "0258e8ec",
   "metadata": {},
   "outputs": [
    {
     "name": "stdout",
     "output_type": "stream",
     "text": [
      "['Classic Movies', 'Thrillers', 'Uncategorized', 'Independent Movies', 'Anime Features', 'Music', 'Cult Movies', 'Sci-Fi', 'Romantic Movies', 'Sports Movies', 'LGBTQ Movies']\n"
     ]
    }
   ],
   "source": [
    "# Iterate over the value counts Series and append genres with less than 100 count to an empty list\n",
    "\n",
    "minor_genre = []\n",
    "for index, value in genre_count.items():\n",
    "    if value<100:\n",
    "        minor_genre.append(index)\n",
    "        \n",
    "print(minor_genre)"
   ]
  },
  {
   "cell_type": "code",
   "execution_count": 104,
   "id": "7aa99a61",
   "metadata": {},
   "outputs": [
    {
     "name": "stdout",
     "output_type": "stream",
     "text": [
      "Dramas                  1353\n",
      "Comedies                1048\n",
      "Documentaries            709\n",
      "Action                   706\n",
      "Children                 449\n",
      "Stand-Up                 293\n",
      "Other                    244\n",
      "Horror Movies            240\n",
      "International Movies     105\n",
      "Name: Genre, dtype: int64\n"
     ]
    }
   ],
   "source": [
    "# Use a custom function and apply it to the Genre column to replace the minor genres to \"Other\"\n",
    "\n",
    "def replace_genre(genre):\n",
    "    if genre in minor_genre:\n",
    "        return 'Other'\n",
    "    else:\n",
    "        return genre\n",
    "    \n",
    "movie_df['Genre'] = (movie_df['Genre']).apply(replace_genre)\n",
    "print(movie_df['Genre'].value_counts())"
   ]
  },
  {
   "cell_type": "code",
   "execution_count": 105,
   "id": "ed9c4139",
   "metadata": {},
   "outputs": [
    {
     "data": {
      "text/html": [
       "<div>\n",
       "<style scoped>\n",
       "    .dataframe tbody tr th:only-of-type {\n",
       "        vertical-align: middle;\n",
       "    }\n",
       "\n",
       "    .dataframe tbody tr th {\n",
       "        vertical-align: top;\n",
       "    }\n",
       "\n",
       "    .dataframe thead th {\n",
       "        text-align: right;\n",
       "    }\n",
       "</style>\n",
       "<table border=\"1\" class=\"dataframe\">\n",
       "  <thead>\n",
       "    <tr style=\"text-align: right;\">\n",
       "      <th></th>\n",
       "      <th>Title</th>\n",
       "      <th>Country</th>\n",
       "      <th>Genre</th>\n",
       "      <th>Month Added</th>\n",
       "      <th>Year Added</th>\n",
       "    </tr>\n",
       "  </thead>\n",
       "  <tbody>\n",
       "    <tr>\n",
       "      <th>1</th>\n",
       "      <td>7:19</td>\n",
       "      <td>Mexico</td>\n",
       "      <td>Dramas</td>\n",
       "      <td>12</td>\n",
       "      <td>2016</td>\n",
       "    </tr>\n",
       "    <tr>\n",
       "      <th>2</th>\n",
       "      <td>23:59</td>\n",
       "      <td>Singapore</td>\n",
       "      <td>Horror Movies</td>\n",
       "      <td>12</td>\n",
       "      <td>2018</td>\n",
       "    </tr>\n",
       "    <tr>\n",
       "      <th>3</th>\n",
       "      <td>9</td>\n",
       "      <td>United States</td>\n",
       "      <td>Action</td>\n",
       "      <td>11</td>\n",
       "      <td>2017</td>\n",
       "    </tr>\n",
       "    <tr>\n",
       "      <th>4</th>\n",
       "      <td>21</td>\n",
       "      <td>United States</td>\n",
       "      <td>Dramas</td>\n",
       "      <td>1</td>\n",
       "      <td>2020</td>\n",
       "    </tr>\n",
       "    <tr>\n",
       "      <th>6</th>\n",
       "      <td>122</td>\n",
       "      <td>Egypt</td>\n",
       "      <td>Horror Movies</td>\n",
       "      <td>6</td>\n",
       "      <td>2020</td>\n",
       "    </tr>\n",
       "  </tbody>\n",
       "</table>\n",
       "</div>"
      ],
      "text/plain": [
       "   Title        Country          Genre  Month Added  Year Added\n",
       "1   7:19         Mexico         Dramas           12        2016\n",
       "2  23:59      Singapore  Horror Movies           12        2018\n",
       "3      9  United States         Action           11        2017\n",
       "4     21  United States         Dramas            1        2020\n",
       "6    122          Egypt  Horror Movies            6        2020"
      ]
     },
     "execution_count": 105,
     "metadata": {},
     "output_type": "execute_result"
    }
   ],
   "source": [
    "# Separate the Date Added column to Year Added and Month Added\n",
    "\n",
    "movie_df['Date Added'] = pd.to_datetime(movie_df['Date Added'])\n",
    "movie_df['Month Added'] = movie_df['Date Added'].dt.month\n",
    "movie_df['Year Added'] = movie_df['Date Added'].dt.year\n",
    "del movie_df['Date Added']\n",
    "\n",
    "\n",
    "movie_df.head()"
   ]
  },
  {
   "cell_type": "code",
   "execution_count": 107,
   "id": "4e42cf9e",
   "metadata": {},
   "outputs": [],
   "source": [
    "# Drop any contents that were added in 2021 as we do not have entire list of 2021 releases in the data set\n",
    "\n",
    "movie_df = movie_df.loc[movie_df['Year Added'] != 2021]"
   ]
  },
  {
   "cell_type": "code",
   "execution_count": 179,
   "id": "643b8ead",
   "metadata": {
    "scrolled": true
   },
   "outputs": [
    {
     "data": {
      "application/javascript": [
       "/* Put everything inside the global mpl namespace */\n",
       "/* global mpl */\n",
       "window.mpl = {};\n",
       "\n",
       "mpl.get_websocket_type = function () {\n",
       "    if (typeof WebSocket !== 'undefined') {\n",
       "        return WebSocket;\n",
       "    } else if (typeof MozWebSocket !== 'undefined') {\n",
       "        return MozWebSocket;\n",
       "    } else {\n",
       "        alert(\n",
       "            'Your browser does not have WebSocket support. ' +\n",
       "                'Please try Chrome, Safari or Firefox ≥ 6. ' +\n",
       "                'Firefox 4 and 5 are also supported but you ' +\n",
       "                'have to enable WebSockets in about:config.'\n",
       "        );\n",
       "    }\n",
       "};\n",
       "\n",
       "mpl.figure = function (figure_id, websocket, ondownload, parent_element) {\n",
       "    this.id = figure_id;\n",
       "\n",
       "    this.ws = websocket;\n",
       "\n",
       "    this.supports_binary = this.ws.binaryType !== undefined;\n",
       "\n",
       "    if (!this.supports_binary) {\n",
       "        var warnings = document.getElementById('mpl-warnings');\n",
       "        if (warnings) {\n",
       "            warnings.style.display = 'block';\n",
       "            warnings.textContent =\n",
       "                'This browser does not support binary websocket messages. ' +\n",
       "                'Performance may be slow.';\n",
       "        }\n",
       "    }\n",
       "\n",
       "    this.imageObj = new Image();\n",
       "\n",
       "    this.context = undefined;\n",
       "    this.message = undefined;\n",
       "    this.canvas = undefined;\n",
       "    this.rubberband_canvas = undefined;\n",
       "    this.rubberband_context = undefined;\n",
       "    this.format_dropdown = undefined;\n",
       "\n",
       "    this.image_mode = 'full';\n",
       "\n",
       "    this.root = document.createElement('div');\n",
       "    this.root.setAttribute('style', 'display: inline-block');\n",
       "    this._root_extra_style(this.root);\n",
       "\n",
       "    parent_element.appendChild(this.root);\n",
       "\n",
       "    this._init_header(this);\n",
       "    this._init_canvas(this);\n",
       "    this._init_toolbar(this);\n",
       "\n",
       "    var fig = this;\n",
       "\n",
       "    this.waiting = false;\n",
       "\n",
       "    this.ws.onopen = function () {\n",
       "        fig.send_message('supports_binary', { value: fig.supports_binary });\n",
       "        fig.send_message('send_image_mode', {});\n",
       "        if (fig.ratio !== 1) {\n",
       "            fig.send_message('set_device_pixel_ratio', {\n",
       "                device_pixel_ratio: fig.ratio,\n",
       "            });\n",
       "        }\n",
       "        fig.send_message('refresh', {});\n",
       "    };\n",
       "\n",
       "    this.imageObj.onload = function () {\n",
       "        if (fig.image_mode === 'full') {\n",
       "            // Full images could contain transparency (where diff images\n",
       "            // almost always do), so we need to clear the canvas so that\n",
       "            // there is no ghosting.\n",
       "            fig.context.clearRect(0, 0, fig.canvas.width, fig.canvas.height);\n",
       "        }\n",
       "        fig.context.drawImage(fig.imageObj, 0, 0);\n",
       "    };\n",
       "\n",
       "    this.imageObj.onunload = function () {\n",
       "        fig.ws.close();\n",
       "    };\n",
       "\n",
       "    this.ws.onmessage = this._make_on_message_function(this);\n",
       "\n",
       "    this.ondownload = ondownload;\n",
       "};\n",
       "\n",
       "mpl.figure.prototype._init_header = function () {\n",
       "    var titlebar = document.createElement('div');\n",
       "    titlebar.classList =\n",
       "        'ui-dialog-titlebar ui-widget-header ui-corner-all ui-helper-clearfix';\n",
       "    var titletext = document.createElement('div');\n",
       "    titletext.classList = 'ui-dialog-title';\n",
       "    titletext.setAttribute(\n",
       "        'style',\n",
       "        'width: 100%; text-align: center; padding: 3px;'\n",
       "    );\n",
       "    titlebar.appendChild(titletext);\n",
       "    this.root.appendChild(titlebar);\n",
       "    this.header = titletext;\n",
       "};\n",
       "\n",
       "mpl.figure.prototype._canvas_extra_style = function (_canvas_div) {};\n",
       "\n",
       "mpl.figure.prototype._root_extra_style = function (_canvas_div) {};\n",
       "\n",
       "mpl.figure.prototype._init_canvas = function () {\n",
       "    var fig = this;\n",
       "\n",
       "    var canvas_div = (this.canvas_div = document.createElement('div'));\n",
       "    canvas_div.setAttribute(\n",
       "        'style',\n",
       "        'border: 1px solid #ddd;' +\n",
       "            'box-sizing: content-box;' +\n",
       "            'clear: both;' +\n",
       "            'min-height: 1px;' +\n",
       "            'min-width: 1px;' +\n",
       "            'outline: 0;' +\n",
       "            'overflow: hidden;' +\n",
       "            'position: relative;' +\n",
       "            'resize: both;'\n",
       "    );\n",
       "\n",
       "    function on_keyboard_event_closure(name) {\n",
       "        return function (event) {\n",
       "            return fig.key_event(event, name);\n",
       "        };\n",
       "    }\n",
       "\n",
       "    canvas_div.addEventListener(\n",
       "        'keydown',\n",
       "        on_keyboard_event_closure('key_press')\n",
       "    );\n",
       "    canvas_div.addEventListener(\n",
       "        'keyup',\n",
       "        on_keyboard_event_closure('key_release')\n",
       "    );\n",
       "\n",
       "    this._canvas_extra_style(canvas_div);\n",
       "    this.root.appendChild(canvas_div);\n",
       "\n",
       "    var canvas = (this.canvas = document.createElement('canvas'));\n",
       "    canvas.classList.add('mpl-canvas');\n",
       "    canvas.setAttribute('style', 'box-sizing: content-box;');\n",
       "\n",
       "    this.context = canvas.getContext('2d');\n",
       "\n",
       "    var backingStore =\n",
       "        this.context.backingStorePixelRatio ||\n",
       "        this.context.webkitBackingStorePixelRatio ||\n",
       "        this.context.mozBackingStorePixelRatio ||\n",
       "        this.context.msBackingStorePixelRatio ||\n",
       "        this.context.oBackingStorePixelRatio ||\n",
       "        this.context.backingStorePixelRatio ||\n",
       "        1;\n",
       "\n",
       "    this.ratio = (window.devicePixelRatio || 1) / backingStore;\n",
       "\n",
       "    var rubberband_canvas = (this.rubberband_canvas = document.createElement(\n",
       "        'canvas'\n",
       "    ));\n",
       "    rubberband_canvas.setAttribute(\n",
       "        'style',\n",
       "        'box-sizing: content-box; position: absolute; left: 0; top: 0; z-index: 1;'\n",
       "    );\n",
       "\n",
       "    // Apply a ponyfill if ResizeObserver is not implemented by browser.\n",
       "    if (this.ResizeObserver === undefined) {\n",
       "        if (window.ResizeObserver !== undefined) {\n",
       "            this.ResizeObserver = window.ResizeObserver;\n",
       "        } else {\n",
       "            var obs = _JSXTOOLS_RESIZE_OBSERVER({});\n",
       "            this.ResizeObserver = obs.ResizeObserver;\n",
       "        }\n",
       "    }\n",
       "\n",
       "    this.resizeObserverInstance = new this.ResizeObserver(function (entries) {\n",
       "        var nentries = entries.length;\n",
       "        for (var i = 0; i < nentries; i++) {\n",
       "            var entry = entries[i];\n",
       "            var width, height;\n",
       "            if (entry.contentBoxSize) {\n",
       "                if (entry.contentBoxSize instanceof Array) {\n",
       "                    // Chrome 84 implements new version of spec.\n",
       "                    width = entry.contentBoxSize[0].inlineSize;\n",
       "                    height = entry.contentBoxSize[0].blockSize;\n",
       "                } else {\n",
       "                    // Firefox implements old version of spec.\n",
       "                    width = entry.contentBoxSize.inlineSize;\n",
       "                    height = entry.contentBoxSize.blockSize;\n",
       "                }\n",
       "            } else {\n",
       "                // Chrome <84 implements even older version of spec.\n",
       "                width = entry.contentRect.width;\n",
       "                height = entry.contentRect.height;\n",
       "            }\n",
       "\n",
       "            // Keep the size of the canvas and rubber band canvas in sync with\n",
       "            // the canvas container.\n",
       "            if (entry.devicePixelContentBoxSize) {\n",
       "                // Chrome 84 implements new version of spec.\n",
       "                canvas.setAttribute(\n",
       "                    'width',\n",
       "                    entry.devicePixelContentBoxSize[0].inlineSize\n",
       "                );\n",
       "                canvas.setAttribute(\n",
       "                    'height',\n",
       "                    entry.devicePixelContentBoxSize[0].blockSize\n",
       "                );\n",
       "            } else {\n",
       "                canvas.setAttribute('width', width * fig.ratio);\n",
       "                canvas.setAttribute('height', height * fig.ratio);\n",
       "            }\n",
       "            canvas.setAttribute(\n",
       "                'style',\n",
       "                'width: ' + width + 'px; height: ' + height + 'px;'\n",
       "            );\n",
       "\n",
       "            rubberband_canvas.setAttribute('width', width);\n",
       "            rubberband_canvas.setAttribute('height', height);\n",
       "\n",
       "            // And update the size in Python. We ignore the initial 0/0 size\n",
       "            // that occurs as the element is placed into the DOM, which should\n",
       "            // otherwise not happen due to the minimum size styling.\n",
       "            if (fig.ws.readyState == 1 && width != 0 && height != 0) {\n",
       "                fig.request_resize(width, height);\n",
       "            }\n",
       "        }\n",
       "    });\n",
       "    this.resizeObserverInstance.observe(canvas_div);\n",
       "\n",
       "    function on_mouse_event_closure(name) {\n",
       "        return function (event) {\n",
       "            return fig.mouse_event(event, name);\n",
       "        };\n",
       "    }\n",
       "\n",
       "    rubberband_canvas.addEventListener(\n",
       "        'mousedown',\n",
       "        on_mouse_event_closure('button_press')\n",
       "    );\n",
       "    rubberband_canvas.addEventListener(\n",
       "        'mouseup',\n",
       "        on_mouse_event_closure('button_release')\n",
       "    );\n",
       "    rubberband_canvas.addEventListener(\n",
       "        'dblclick',\n",
       "        on_mouse_event_closure('dblclick')\n",
       "    );\n",
       "    // Throttle sequential mouse events to 1 every 20ms.\n",
       "    rubberband_canvas.addEventListener(\n",
       "        'mousemove',\n",
       "        on_mouse_event_closure('motion_notify')\n",
       "    );\n",
       "\n",
       "    rubberband_canvas.addEventListener(\n",
       "        'mouseenter',\n",
       "        on_mouse_event_closure('figure_enter')\n",
       "    );\n",
       "    rubberband_canvas.addEventListener(\n",
       "        'mouseleave',\n",
       "        on_mouse_event_closure('figure_leave')\n",
       "    );\n",
       "\n",
       "    canvas_div.addEventListener('wheel', function (event) {\n",
       "        if (event.deltaY < 0) {\n",
       "            event.step = 1;\n",
       "        } else {\n",
       "            event.step = -1;\n",
       "        }\n",
       "        on_mouse_event_closure('scroll')(event);\n",
       "    });\n",
       "\n",
       "    canvas_div.appendChild(canvas);\n",
       "    canvas_div.appendChild(rubberband_canvas);\n",
       "\n",
       "    this.rubberband_context = rubberband_canvas.getContext('2d');\n",
       "    this.rubberband_context.strokeStyle = '#000000';\n",
       "\n",
       "    this._resize_canvas = function (width, height, forward) {\n",
       "        if (forward) {\n",
       "            canvas_div.style.width = width + 'px';\n",
       "            canvas_div.style.height = height + 'px';\n",
       "        }\n",
       "    };\n",
       "\n",
       "    // Disable right mouse context menu.\n",
       "    this.rubberband_canvas.addEventListener('contextmenu', function (_e) {\n",
       "        event.preventDefault();\n",
       "        return false;\n",
       "    });\n",
       "\n",
       "    function set_focus() {\n",
       "        canvas.focus();\n",
       "        canvas_div.focus();\n",
       "    }\n",
       "\n",
       "    window.setTimeout(set_focus, 100);\n",
       "};\n",
       "\n",
       "mpl.figure.prototype._init_toolbar = function () {\n",
       "    var fig = this;\n",
       "\n",
       "    var toolbar = document.createElement('div');\n",
       "    toolbar.classList = 'mpl-toolbar';\n",
       "    this.root.appendChild(toolbar);\n",
       "\n",
       "    function on_click_closure(name) {\n",
       "        return function (_event) {\n",
       "            return fig.toolbar_button_onclick(name);\n",
       "        };\n",
       "    }\n",
       "\n",
       "    function on_mouseover_closure(tooltip) {\n",
       "        return function (event) {\n",
       "            if (!event.currentTarget.disabled) {\n",
       "                return fig.toolbar_button_onmouseover(tooltip);\n",
       "            }\n",
       "        };\n",
       "    }\n",
       "\n",
       "    fig.buttons = {};\n",
       "    var buttonGroup = document.createElement('div');\n",
       "    buttonGroup.classList = 'mpl-button-group';\n",
       "    for (var toolbar_ind in mpl.toolbar_items) {\n",
       "        var name = mpl.toolbar_items[toolbar_ind][0];\n",
       "        var tooltip = mpl.toolbar_items[toolbar_ind][1];\n",
       "        var image = mpl.toolbar_items[toolbar_ind][2];\n",
       "        var method_name = mpl.toolbar_items[toolbar_ind][3];\n",
       "\n",
       "        if (!name) {\n",
       "            /* Instead of a spacer, we start a new button group. */\n",
       "            if (buttonGroup.hasChildNodes()) {\n",
       "                toolbar.appendChild(buttonGroup);\n",
       "            }\n",
       "            buttonGroup = document.createElement('div');\n",
       "            buttonGroup.classList = 'mpl-button-group';\n",
       "            continue;\n",
       "        }\n",
       "\n",
       "        var button = (fig.buttons[name] = document.createElement('button'));\n",
       "        button.classList = 'mpl-widget';\n",
       "        button.setAttribute('role', 'button');\n",
       "        button.setAttribute('aria-disabled', 'false');\n",
       "        button.addEventListener('click', on_click_closure(method_name));\n",
       "        button.addEventListener('mouseover', on_mouseover_closure(tooltip));\n",
       "\n",
       "        var icon_img = document.createElement('img');\n",
       "        icon_img.src = '_images/' + image + '.png';\n",
       "        icon_img.srcset = '_images/' + image + '_large.png 2x';\n",
       "        icon_img.alt = tooltip;\n",
       "        button.appendChild(icon_img);\n",
       "\n",
       "        buttonGroup.appendChild(button);\n",
       "    }\n",
       "\n",
       "    if (buttonGroup.hasChildNodes()) {\n",
       "        toolbar.appendChild(buttonGroup);\n",
       "    }\n",
       "\n",
       "    var fmt_picker = document.createElement('select');\n",
       "    fmt_picker.classList = 'mpl-widget';\n",
       "    toolbar.appendChild(fmt_picker);\n",
       "    this.format_dropdown = fmt_picker;\n",
       "\n",
       "    for (var ind in mpl.extensions) {\n",
       "        var fmt = mpl.extensions[ind];\n",
       "        var option = document.createElement('option');\n",
       "        option.selected = fmt === mpl.default_extension;\n",
       "        option.innerHTML = fmt;\n",
       "        fmt_picker.appendChild(option);\n",
       "    }\n",
       "\n",
       "    var status_bar = document.createElement('span');\n",
       "    status_bar.classList = 'mpl-message';\n",
       "    toolbar.appendChild(status_bar);\n",
       "    this.message = status_bar;\n",
       "};\n",
       "\n",
       "mpl.figure.prototype.request_resize = function (x_pixels, y_pixels) {\n",
       "    // Request matplotlib to resize the figure. Matplotlib will then trigger a resize in the client,\n",
       "    // which will in turn request a refresh of the image.\n",
       "    this.send_message('resize', { width: x_pixels, height: y_pixels });\n",
       "};\n",
       "\n",
       "mpl.figure.prototype.send_message = function (type, properties) {\n",
       "    properties['type'] = type;\n",
       "    properties['figure_id'] = this.id;\n",
       "    this.ws.send(JSON.stringify(properties));\n",
       "};\n",
       "\n",
       "mpl.figure.prototype.send_draw_message = function () {\n",
       "    if (!this.waiting) {\n",
       "        this.waiting = true;\n",
       "        this.ws.send(JSON.stringify({ type: 'draw', figure_id: this.id }));\n",
       "    }\n",
       "};\n",
       "\n",
       "mpl.figure.prototype.handle_save = function (fig, _msg) {\n",
       "    var format_dropdown = fig.format_dropdown;\n",
       "    var format = format_dropdown.options[format_dropdown.selectedIndex].value;\n",
       "    fig.ondownload(fig, format);\n",
       "};\n",
       "\n",
       "mpl.figure.prototype.handle_resize = function (fig, msg) {\n",
       "    var size = msg['size'];\n",
       "    if (size[0] !== fig.canvas.width || size[1] !== fig.canvas.height) {\n",
       "        fig._resize_canvas(size[0], size[1], msg['forward']);\n",
       "        fig.send_message('refresh', {});\n",
       "    }\n",
       "};\n",
       "\n",
       "mpl.figure.prototype.handle_rubberband = function (fig, msg) {\n",
       "    var x0 = msg['x0'] / fig.ratio;\n",
       "    var y0 = (fig.canvas.height - msg['y0']) / fig.ratio;\n",
       "    var x1 = msg['x1'] / fig.ratio;\n",
       "    var y1 = (fig.canvas.height - msg['y1']) / fig.ratio;\n",
       "    x0 = Math.floor(x0) + 0.5;\n",
       "    y0 = Math.floor(y0) + 0.5;\n",
       "    x1 = Math.floor(x1) + 0.5;\n",
       "    y1 = Math.floor(y1) + 0.5;\n",
       "    var min_x = Math.min(x0, x1);\n",
       "    var min_y = Math.min(y0, y1);\n",
       "    var width = Math.abs(x1 - x0);\n",
       "    var height = Math.abs(y1 - y0);\n",
       "\n",
       "    fig.rubberband_context.clearRect(\n",
       "        0,\n",
       "        0,\n",
       "        fig.canvas.width / fig.ratio,\n",
       "        fig.canvas.height / fig.ratio\n",
       "    );\n",
       "\n",
       "    fig.rubberband_context.strokeRect(min_x, min_y, width, height);\n",
       "};\n",
       "\n",
       "mpl.figure.prototype.handle_figure_label = function (fig, msg) {\n",
       "    // Updates the figure title.\n",
       "    fig.header.textContent = msg['label'];\n",
       "};\n",
       "\n",
       "mpl.figure.prototype.handle_cursor = function (fig, msg) {\n",
       "    fig.rubberband_canvas.style.cursor = msg['cursor'];\n",
       "};\n",
       "\n",
       "mpl.figure.prototype.handle_message = function (fig, msg) {\n",
       "    fig.message.textContent = msg['message'];\n",
       "};\n",
       "\n",
       "mpl.figure.prototype.handle_draw = function (fig, _msg) {\n",
       "    // Request the server to send over a new figure.\n",
       "    fig.send_draw_message();\n",
       "};\n",
       "\n",
       "mpl.figure.prototype.handle_image_mode = function (fig, msg) {\n",
       "    fig.image_mode = msg['mode'];\n",
       "};\n",
       "\n",
       "mpl.figure.prototype.handle_history_buttons = function (fig, msg) {\n",
       "    for (var key in msg) {\n",
       "        if (!(key in fig.buttons)) {\n",
       "            continue;\n",
       "        }\n",
       "        fig.buttons[key].disabled = !msg[key];\n",
       "        fig.buttons[key].setAttribute('aria-disabled', !msg[key]);\n",
       "    }\n",
       "};\n",
       "\n",
       "mpl.figure.prototype.handle_navigate_mode = function (fig, msg) {\n",
       "    if (msg['mode'] === 'PAN') {\n",
       "        fig.buttons['Pan'].classList.add('active');\n",
       "        fig.buttons['Zoom'].classList.remove('active');\n",
       "    } else if (msg['mode'] === 'ZOOM') {\n",
       "        fig.buttons['Pan'].classList.remove('active');\n",
       "        fig.buttons['Zoom'].classList.add('active');\n",
       "    } else {\n",
       "        fig.buttons['Pan'].classList.remove('active');\n",
       "        fig.buttons['Zoom'].classList.remove('active');\n",
       "    }\n",
       "};\n",
       "\n",
       "mpl.figure.prototype.updated_canvas_event = function () {\n",
       "    // Called whenever the canvas gets updated.\n",
       "    this.send_message('ack', {});\n",
       "};\n",
       "\n",
       "// A function to construct a web socket function for onmessage handling.\n",
       "// Called in the figure constructor.\n",
       "mpl.figure.prototype._make_on_message_function = function (fig) {\n",
       "    return function socket_on_message(evt) {\n",
       "        if (evt.data instanceof Blob) {\n",
       "            var img = evt.data;\n",
       "            if (img.type !== 'image/png') {\n",
       "                /* FIXME: We get \"Resource interpreted as Image but\n",
       "                 * transferred with MIME type text/plain:\" errors on\n",
       "                 * Chrome.  But how to set the MIME type?  It doesn't seem\n",
       "                 * to be part of the websocket stream */\n",
       "                img.type = 'image/png';\n",
       "            }\n",
       "\n",
       "            /* Free the memory for the previous frames */\n",
       "            if (fig.imageObj.src) {\n",
       "                (window.URL || window.webkitURL).revokeObjectURL(\n",
       "                    fig.imageObj.src\n",
       "                );\n",
       "            }\n",
       "\n",
       "            fig.imageObj.src = (window.URL || window.webkitURL).createObjectURL(\n",
       "                img\n",
       "            );\n",
       "            fig.updated_canvas_event();\n",
       "            fig.waiting = false;\n",
       "            return;\n",
       "        } else if (\n",
       "            typeof evt.data === 'string' &&\n",
       "            evt.data.slice(0, 21) === 'data:image/png;base64'\n",
       "        ) {\n",
       "            fig.imageObj.src = evt.data;\n",
       "            fig.updated_canvas_event();\n",
       "            fig.waiting = false;\n",
       "            return;\n",
       "        }\n",
       "\n",
       "        var msg = JSON.parse(evt.data);\n",
       "        var msg_type = msg['type'];\n",
       "\n",
       "        // Call the  \"handle_{type}\" callback, which takes\n",
       "        // the figure and JSON message as its only arguments.\n",
       "        try {\n",
       "            var callback = fig['handle_' + msg_type];\n",
       "        } catch (e) {\n",
       "            console.log(\n",
       "                \"No handler for the '\" + msg_type + \"' message type: \",\n",
       "                msg\n",
       "            );\n",
       "            return;\n",
       "        }\n",
       "\n",
       "        if (callback) {\n",
       "            try {\n",
       "                // console.log(\"Handling '\" + msg_type + \"' message: \", msg);\n",
       "                callback(fig, msg);\n",
       "            } catch (e) {\n",
       "                console.log(\n",
       "                    \"Exception inside the 'handler_\" + msg_type + \"' callback:\",\n",
       "                    e,\n",
       "                    e.stack,\n",
       "                    msg\n",
       "                );\n",
       "            }\n",
       "        }\n",
       "    };\n",
       "};\n",
       "\n",
       "// from https://stackoverflow.com/questions/1114465/getting-mouse-location-in-canvas\n",
       "mpl.findpos = function (e) {\n",
       "    //this section is from http://www.quirksmode.org/js/events_properties.html\n",
       "    var targ;\n",
       "    if (!e) {\n",
       "        e = window.event;\n",
       "    }\n",
       "    if (e.target) {\n",
       "        targ = e.target;\n",
       "    } else if (e.srcElement) {\n",
       "        targ = e.srcElement;\n",
       "    }\n",
       "    if (targ.nodeType === 3) {\n",
       "        // defeat Safari bug\n",
       "        targ = targ.parentNode;\n",
       "    }\n",
       "\n",
       "    // pageX,Y are the mouse positions relative to the document\n",
       "    var boundingRect = targ.getBoundingClientRect();\n",
       "    var x = e.pageX - (boundingRect.left + document.body.scrollLeft);\n",
       "    var y = e.pageY - (boundingRect.top + document.body.scrollTop);\n",
       "\n",
       "    return { x: x, y: y };\n",
       "};\n",
       "\n",
       "/*\n",
       " * return a copy of an object with only non-object keys\n",
       " * we need this to avoid circular references\n",
       " * https://stackoverflow.com/a/24161582/3208463\n",
       " */\n",
       "function simpleKeys(original) {\n",
       "    return Object.keys(original).reduce(function (obj, key) {\n",
       "        if (typeof original[key] !== 'object') {\n",
       "            obj[key] = original[key];\n",
       "        }\n",
       "        return obj;\n",
       "    }, {});\n",
       "}\n",
       "\n",
       "mpl.figure.prototype.mouse_event = function (event, name) {\n",
       "    var canvas_pos = mpl.findpos(event);\n",
       "\n",
       "    if (name === 'button_press') {\n",
       "        this.canvas.focus();\n",
       "        this.canvas_div.focus();\n",
       "    }\n",
       "\n",
       "    var x = canvas_pos.x * this.ratio;\n",
       "    var y = canvas_pos.y * this.ratio;\n",
       "\n",
       "    this.send_message(name, {\n",
       "        x: x,\n",
       "        y: y,\n",
       "        button: event.button,\n",
       "        step: event.step,\n",
       "        guiEvent: simpleKeys(event),\n",
       "    });\n",
       "\n",
       "    /* This prevents the web browser from automatically changing to\n",
       "     * the text insertion cursor when the button is pressed.  We want\n",
       "     * to control all of the cursor setting manually through the\n",
       "     * 'cursor' event from matplotlib */\n",
       "    event.preventDefault();\n",
       "    return false;\n",
       "};\n",
       "\n",
       "mpl.figure.prototype._key_event_extra = function (_event, _name) {\n",
       "    // Handle any extra behaviour associated with a key event\n",
       "};\n",
       "\n",
       "mpl.figure.prototype.key_event = function (event, name) {\n",
       "    // Prevent repeat events\n",
       "    if (name === 'key_press') {\n",
       "        if (event.key === this._key) {\n",
       "            return;\n",
       "        } else {\n",
       "            this._key = event.key;\n",
       "        }\n",
       "    }\n",
       "    if (name === 'key_release') {\n",
       "        this._key = null;\n",
       "    }\n",
       "\n",
       "    var value = '';\n",
       "    if (event.ctrlKey && event.key !== 'Control') {\n",
       "        value += 'ctrl+';\n",
       "    }\n",
       "    else if (event.altKey && event.key !== 'Alt') {\n",
       "        value += 'alt+';\n",
       "    }\n",
       "    else if (event.shiftKey && event.key !== 'Shift') {\n",
       "        value += 'shift+';\n",
       "    }\n",
       "\n",
       "    value += 'k' + event.key;\n",
       "\n",
       "    this._key_event_extra(event, name);\n",
       "\n",
       "    this.send_message(name, { key: value, guiEvent: simpleKeys(event) });\n",
       "    return false;\n",
       "};\n",
       "\n",
       "mpl.figure.prototype.toolbar_button_onclick = function (name) {\n",
       "    if (name === 'download') {\n",
       "        this.handle_save(this, null);\n",
       "    } else {\n",
       "        this.send_message('toolbar_button', { name: name });\n",
       "    }\n",
       "};\n",
       "\n",
       "mpl.figure.prototype.toolbar_button_onmouseover = function (tooltip) {\n",
       "    this.message.textContent = tooltip;\n",
       "};\n",
       "\n",
       "///////////////// REMAINING CONTENT GENERATED BY embed_js.py /////////////////\n",
       "// prettier-ignore\n",
       "var _JSXTOOLS_RESIZE_OBSERVER=function(A){var t,i=new WeakMap,n=new WeakMap,a=new WeakMap,r=new WeakMap,o=new Set;function s(e){if(!(this instanceof s))throw new TypeError(\"Constructor requires 'new' operator\");i.set(this,e)}function h(){throw new TypeError(\"Function is not a constructor\")}function c(e,t,i,n){e=0 in arguments?Number(arguments[0]):0,t=1 in arguments?Number(arguments[1]):0,i=2 in arguments?Number(arguments[2]):0,n=3 in arguments?Number(arguments[3]):0,this.right=(this.x=this.left=e)+(this.width=i),this.bottom=(this.y=this.top=t)+(this.height=n),Object.freeze(this)}function d(){t=requestAnimationFrame(d);var s=new WeakMap,p=new Set;o.forEach((function(t){r.get(t).forEach((function(i){var r=t instanceof window.SVGElement,o=a.get(t),d=r?0:parseFloat(o.paddingTop),f=r?0:parseFloat(o.paddingRight),l=r?0:parseFloat(o.paddingBottom),u=r?0:parseFloat(o.paddingLeft),g=r?0:parseFloat(o.borderTopWidth),m=r?0:parseFloat(o.borderRightWidth),w=r?0:parseFloat(o.borderBottomWidth),b=u+f,F=d+l,v=(r?0:parseFloat(o.borderLeftWidth))+m,W=g+w,y=r?0:t.offsetHeight-W-t.clientHeight,E=r?0:t.offsetWidth-v-t.clientWidth,R=b+v,z=F+W,M=r?t.width:parseFloat(o.width)-R-E,O=r?t.height:parseFloat(o.height)-z-y;if(n.has(t)){var k=n.get(t);if(k[0]===M&&k[1]===O)return}n.set(t,[M,O]);var S=Object.create(h.prototype);S.target=t,S.contentRect=new c(u,d,M,O),s.has(i)||(s.set(i,[]),p.add(i)),s.get(i).push(S)}))})),p.forEach((function(e){i.get(e).call(e,s.get(e),e)}))}return s.prototype.observe=function(i){if(i instanceof window.Element){r.has(i)||(r.set(i,new Set),o.add(i),a.set(i,window.getComputedStyle(i)));var n=r.get(i);n.has(this)||n.add(this),cancelAnimationFrame(t),t=requestAnimationFrame(d)}},s.prototype.unobserve=function(i){if(i instanceof window.Element&&r.has(i)){var n=r.get(i);n.has(this)&&(n.delete(this),n.size||(r.delete(i),o.delete(i))),n.size||r.delete(i),o.size||cancelAnimationFrame(t)}},A.DOMRectReadOnly=c,A.ResizeObserver=s,A.ResizeObserverEntry=h,A}; // eslint-disable-line\n",
       "mpl.toolbar_items = [[\"Home\", \"Reset original view\", \"fa fa-home icon-home\", \"home\"], [\"Back\", \"Back to previous view\", \"fa fa-arrow-left icon-arrow-left\", \"back\"], [\"Forward\", \"Forward to next view\", \"fa fa-arrow-right icon-arrow-right\", \"forward\"], [\"\", \"\", \"\", \"\"], [\"Pan\", \"Left button pans, Right button zooms\\nx/y fixes axis, CTRL fixes aspect\", \"fa fa-arrows icon-move\", \"pan\"], [\"Zoom\", \"Zoom to rectangle\\nx/y fixes axis\", \"fa fa-square-o icon-check-empty\", \"zoom\"], [\"\", \"\", \"\", \"\"], [\"Download\", \"Download plot\", \"fa fa-floppy-o icon-save\", \"download\"]];\n",
       "\n",
       "mpl.extensions = [\"eps\", \"jpeg\", \"pgf\", \"pdf\", \"png\", \"ps\", \"raw\", \"svg\", \"tif\"];\n",
       "\n",
       "mpl.default_extension = \"png\";/* global mpl */\n",
       "\n",
       "var comm_websocket_adapter = function (comm) {\n",
       "    // Create a \"websocket\"-like object which calls the given IPython comm\n",
       "    // object with the appropriate methods. Currently this is a non binary\n",
       "    // socket, so there is still some room for performance tuning.\n",
       "    var ws = {};\n",
       "\n",
       "    ws.binaryType = comm.kernel.ws.binaryType;\n",
       "    ws.readyState = comm.kernel.ws.readyState;\n",
       "    function updateReadyState(_event) {\n",
       "        if (comm.kernel.ws) {\n",
       "            ws.readyState = comm.kernel.ws.readyState;\n",
       "        } else {\n",
       "            ws.readyState = 3; // Closed state.\n",
       "        }\n",
       "    }\n",
       "    comm.kernel.ws.addEventListener('open', updateReadyState);\n",
       "    comm.kernel.ws.addEventListener('close', updateReadyState);\n",
       "    comm.kernel.ws.addEventListener('error', updateReadyState);\n",
       "\n",
       "    ws.close = function () {\n",
       "        comm.close();\n",
       "    };\n",
       "    ws.send = function (m) {\n",
       "        //console.log('sending', m);\n",
       "        comm.send(m);\n",
       "    };\n",
       "    // Register the callback with on_msg.\n",
       "    comm.on_msg(function (msg) {\n",
       "        //console.log('receiving', msg['content']['data'], msg);\n",
       "        var data = msg['content']['data'];\n",
       "        if (data['blob'] !== undefined) {\n",
       "            data = {\n",
       "                data: new Blob(msg['buffers'], { type: data['blob'] }),\n",
       "            };\n",
       "        }\n",
       "        // Pass the mpl event to the overridden (by mpl) onmessage function.\n",
       "        ws.onmessage(data);\n",
       "    });\n",
       "    return ws;\n",
       "};\n",
       "\n",
       "mpl.mpl_figure_comm = function (comm, msg) {\n",
       "    // This is the function which gets called when the mpl process\n",
       "    // starts-up an IPython Comm through the \"matplotlib\" channel.\n",
       "\n",
       "    var id = msg.content.data.id;\n",
       "    // Get hold of the div created by the display call when the Comm\n",
       "    // socket was opened in Python.\n",
       "    var element = document.getElementById(id);\n",
       "    var ws_proxy = comm_websocket_adapter(comm);\n",
       "\n",
       "    function ondownload(figure, _format) {\n",
       "        window.open(figure.canvas.toDataURL());\n",
       "    }\n",
       "\n",
       "    var fig = new mpl.figure(id, ws_proxy, ondownload, element);\n",
       "\n",
       "    // Call onopen now - mpl needs it, as it is assuming we've passed it a real\n",
       "    // web socket which is closed, not our websocket->open comm proxy.\n",
       "    ws_proxy.onopen();\n",
       "\n",
       "    fig.parent_element = element;\n",
       "    fig.cell_info = mpl.find_output_cell(\"<div id='\" + id + \"'></div>\");\n",
       "    if (!fig.cell_info) {\n",
       "        console.error('Failed to find cell for figure', id, fig);\n",
       "        return;\n",
       "    }\n",
       "    fig.cell_info[0].output_area.element.on(\n",
       "        'cleared',\n",
       "        { fig: fig },\n",
       "        fig._remove_fig_handler\n",
       "    );\n",
       "};\n",
       "\n",
       "mpl.figure.prototype.handle_close = function (fig, msg) {\n",
       "    var width = fig.canvas.width / fig.ratio;\n",
       "    fig.cell_info[0].output_area.element.off(\n",
       "        'cleared',\n",
       "        fig._remove_fig_handler\n",
       "    );\n",
       "    fig.resizeObserverInstance.unobserve(fig.canvas_div);\n",
       "\n",
       "    // Update the output cell to use the data from the current canvas.\n",
       "    fig.push_to_output();\n",
       "    var dataURL = fig.canvas.toDataURL();\n",
       "    // Re-enable the keyboard manager in IPython - without this line, in FF,\n",
       "    // the notebook keyboard shortcuts fail.\n",
       "    IPython.keyboard_manager.enable();\n",
       "    fig.parent_element.innerHTML =\n",
       "        '<img src=\"' + dataURL + '\" width=\"' + width + '\">';\n",
       "    fig.close_ws(fig, msg);\n",
       "};\n",
       "\n",
       "mpl.figure.prototype.close_ws = function (fig, msg) {\n",
       "    fig.send_message('closing', msg);\n",
       "    // fig.ws.close()\n",
       "};\n",
       "\n",
       "mpl.figure.prototype.push_to_output = function (_remove_interactive) {\n",
       "    // Turn the data on the canvas into data in the output cell.\n",
       "    var width = this.canvas.width / this.ratio;\n",
       "    var dataURL = this.canvas.toDataURL();\n",
       "    this.cell_info[1]['text/html'] =\n",
       "        '<img src=\"' + dataURL + '\" width=\"' + width + '\">';\n",
       "};\n",
       "\n",
       "mpl.figure.prototype.updated_canvas_event = function () {\n",
       "    // Tell IPython that the notebook contents must change.\n",
       "    IPython.notebook.set_dirty(true);\n",
       "    this.send_message('ack', {});\n",
       "    var fig = this;\n",
       "    // Wait a second, then push the new image to the DOM so\n",
       "    // that it is saved nicely (might be nice to debounce this).\n",
       "    setTimeout(function () {\n",
       "        fig.push_to_output();\n",
       "    }, 1000);\n",
       "};\n",
       "\n",
       "mpl.figure.prototype._init_toolbar = function () {\n",
       "    var fig = this;\n",
       "\n",
       "    var toolbar = document.createElement('div');\n",
       "    toolbar.classList = 'btn-toolbar';\n",
       "    this.root.appendChild(toolbar);\n",
       "\n",
       "    function on_click_closure(name) {\n",
       "        return function (_event) {\n",
       "            return fig.toolbar_button_onclick(name);\n",
       "        };\n",
       "    }\n",
       "\n",
       "    function on_mouseover_closure(tooltip) {\n",
       "        return function (event) {\n",
       "            if (!event.currentTarget.disabled) {\n",
       "                return fig.toolbar_button_onmouseover(tooltip);\n",
       "            }\n",
       "        };\n",
       "    }\n",
       "\n",
       "    fig.buttons = {};\n",
       "    var buttonGroup = document.createElement('div');\n",
       "    buttonGroup.classList = 'btn-group';\n",
       "    var button;\n",
       "    for (var toolbar_ind in mpl.toolbar_items) {\n",
       "        var name = mpl.toolbar_items[toolbar_ind][0];\n",
       "        var tooltip = mpl.toolbar_items[toolbar_ind][1];\n",
       "        var image = mpl.toolbar_items[toolbar_ind][2];\n",
       "        var method_name = mpl.toolbar_items[toolbar_ind][3];\n",
       "\n",
       "        if (!name) {\n",
       "            /* Instead of a spacer, we start a new button group. */\n",
       "            if (buttonGroup.hasChildNodes()) {\n",
       "                toolbar.appendChild(buttonGroup);\n",
       "            }\n",
       "            buttonGroup = document.createElement('div');\n",
       "            buttonGroup.classList = 'btn-group';\n",
       "            continue;\n",
       "        }\n",
       "\n",
       "        button = fig.buttons[name] = document.createElement('button');\n",
       "        button.classList = 'btn btn-default';\n",
       "        button.href = '#';\n",
       "        button.title = name;\n",
       "        button.innerHTML = '<i class=\"fa ' + image + ' fa-lg\"></i>';\n",
       "        button.addEventListener('click', on_click_closure(method_name));\n",
       "        button.addEventListener('mouseover', on_mouseover_closure(tooltip));\n",
       "        buttonGroup.appendChild(button);\n",
       "    }\n",
       "\n",
       "    if (buttonGroup.hasChildNodes()) {\n",
       "        toolbar.appendChild(buttonGroup);\n",
       "    }\n",
       "\n",
       "    // Add the status bar.\n",
       "    var status_bar = document.createElement('span');\n",
       "    status_bar.classList = 'mpl-message pull-right';\n",
       "    toolbar.appendChild(status_bar);\n",
       "    this.message = status_bar;\n",
       "\n",
       "    // Add the close button to the window.\n",
       "    var buttongrp = document.createElement('div');\n",
       "    buttongrp.classList = 'btn-group inline pull-right';\n",
       "    button = document.createElement('button');\n",
       "    button.classList = 'btn btn-mini btn-primary';\n",
       "    button.href = '#';\n",
       "    button.title = 'Stop Interaction';\n",
       "    button.innerHTML = '<i class=\"fa fa-power-off icon-remove icon-large\"></i>';\n",
       "    button.addEventListener('click', function (_evt) {\n",
       "        fig.handle_close(fig, {});\n",
       "    });\n",
       "    button.addEventListener(\n",
       "        'mouseover',\n",
       "        on_mouseover_closure('Stop Interaction')\n",
       "    );\n",
       "    buttongrp.appendChild(button);\n",
       "    var titlebar = this.root.querySelector('.ui-dialog-titlebar');\n",
       "    titlebar.insertBefore(buttongrp, titlebar.firstChild);\n",
       "};\n",
       "\n",
       "mpl.figure.prototype._remove_fig_handler = function (event) {\n",
       "    var fig = event.data.fig;\n",
       "    if (event.target !== this) {\n",
       "        // Ignore bubbled events from children.\n",
       "        return;\n",
       "    }\n",
       "    fig.close_ws(fig, {});\n",
       "};\n",
       "\n",
       "mpl.figure.prototype._root_extra_style = function (el) {\n",
       "    el.style.boxSizing = 'content-box'; // override notebook setting of border-box.\n",
       "};\n",
       "\n",
       "mpl.figure.prototype._canvas_extra_style = function (el) {\n",
       "    // this is important to make the div 'focusable\n",
       "    el.setAttribute('tabindex', 0);\n",
       "    // reach out to IPython and tell the keyboard manager to turn it's self\n",
       "    // off when our div gets focus\n",
       "\n",
       "    // location in version 3\n",
       "    if (IPython.notebook.keyboard_manager) {\n",
       "        IPython.notebook.keyboard_manager.register_events(el);\n",
       "    } else {\n",
       "        // location in version 2\n",
       "        IPython.keyboard_manager.register_events(el);\n",
       "    }\n",
       "};\n",
       "\n",
       "mpl.figure.prototype._key_event_extra = function (event, _name) {\n",
       "    // Check for shift+enter\n",
       "    if (event.shiftKey && event.which === 13) {\n",
       "        this.canvas_div.blur();\n",
       "        // select the cell after this one\n",
       "        var index = IPython.notebook.find_cell_index(this.cell_info[0]);\n",
       "        IPython.notebook.select(index + 1);\n",
       "    }\n",
       "};\n",
       "\n",
       "mpl.figure.prototype.handle_save = function (fig, _msg) {\n",
       "    fig.ondownload(fig, null);\n",
       "};\n",
       "\n",
       "mpl.find_output_cell = function (html_output) {\n",
       "    // Return the cell and output element which can be found *uniquely* in the notebook.\n",
       "    // Note - this is a bit hacky, but it is done because the \"notebook_saving.Notebook\"\n",
       "    // IPython event is triggered only after the cells have been serialised, which for\n",
       "    // our purposes (turning an active figure into a static one), is too late.\n",
       "    var cells = IPython.notebook.get_cells();\n",
       "    var ncells = cells.length;\n",
       "    for (var i = 0; i < ncells; i++) {\n",
       "        var cell = cells[i];\n",
       "        if (cell.cell_type === 'code') {\n",
       "            for (var j = 0; j < cell.output_area.outputs.length; j++) {\n",
       "                var data = cell.output_area.outputs[j];\n",
       "                if (data.data) {\n",
       "                    // IPython >= 3 moved mimebundle to data attribute of output\n",
       "                    data = data.data;\n",
       "                }\n",
       "                if (data['text/html'] === html_output) {\n",
       "                    return [cell, data, j];\n",
       "                }\n",
       "            }\n",
       "        }\n",
       "    }\n",
       "};\n",
       "\n",
       "// Register the function which deals with the matplotlib target/channel.\n",
       "// The kernel may be null if the page has been refreshed.\n",
       "if (IPython.notebook.kernel !== null) {\n",
       "    IPython.notebook.kernel.comm_manager.register_target(\n",
       "        'matplotlib',\n",
       "        mpl.mpl_figure_comm\n",
       "    );\n",
       "}\n"
      ],
      "text/plain": [
       "<IPython.core.display.Javascript object>"
      ]
     },
     "metadata": {},
     "output_type": "display_data"
    },
    {
     "data": {
      "text/html": [
       "<img src=\"data:image/png;base64,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\" width=\"1800\">"
      ],
      "text/plain": [
       "<IPython.core.display.HTML object>"
      ]
     },
     "metadata": {},
     "output_type": "display_data"
    }
   ],
   "source": [
    "# Plot a bar graph showing the count of each genre\n",
    "\n",
    "genre_count = movie_df['Genre'].value_counts()\n",
    "\n",
    "plt.figure(1, figsize=(18,6))\n",
    "plt.barh(genre_count.index, genre_count.values, align='center', color = 'green')\n",
    "plt.xlabel('Count')\n",
    "plt.ylabel('Netflix Movie Genre')\n",
    "plt.title('Number of Movie Genres Released from 2008 to 2020')\n",
    "plt.show()"
   ]
  },
  {
   "cell_type": "markdown",
   "id": "80384611",
   "metadata": {},
   "source": [
    "Between the years 2008 and 2020, the genre that witnessed the highest volume of movie releases was 'Dramas,' making it the most prolific category during this period. In contrast, the genre with the least number of movie releases was 'International Movies,' indicating a comparatively lower frequency of production and distribution within the specified timeframe. This observed trend underscores the significant prominence of dramas in the cinematic landscape, while also highlighting the relatively modest representation of international films during the analyzed period."
   ]
  },
  {
   "cell_type": "code",
   "execution_count": 161,
   "id": "a5c4e53d",
   "metadata": {},
   "outputs": [
    {
     "data": {
      "image/png": "[encoded data removed]",
      "text/plain": [
       "<Figure size 1296x576 with 1 Axes>"
      ]
     },
     "metadata": {
      "needs_background": "light"
     },
     "output_type": "display_data"
    }
   ],
   "source": [
    "# Plot a line graph showing the number of movies released each year\n",
    "\n",
    "year_count = movie_df['Year Added'].value_counts()\n",
    "year_count = year_count.reset_index()\n",
    "year_count = year_count.rename(columns = {'index':'Year Added', 'Year Added':'Movie Count'})\n",
    "year_count = year_count.sort_values('Year Added')\n",
    "\n",
    "plt.figure(2, figsize=(18,8))\n",
    "plt.plot(year_count['Year Added'], year_count['Movie Count'], linewidth = 3, color='red')\n",
    "plt.hlines(700,0,2021, alpha=0.8)\n",
    "plt.xlim(2008, 2020)\n",
    "plt.ylim(0)\n",
    "plt.xlabel('Year')\n",
    "plt.ylabel('Movie Count')\n",
    "plt.title('Number of Movies Released vs. Year')\n",
    "plt.show()"
   ]
  },
  {
   "cell_type": "markdown",
   "id": "2bc374db",
   "metadata": {},
   "source": [
    "Commencing from the year 2016, there was a remarkable and exponential surge in the quantity of movies added to the platform. This upward trajectory reached its zenith in 2019, experiencing a peak in the influx of new content. However, the momentum exhibited a slight deceleration in 2020, with a discernible but marginal reduction in the number of movies added. This intriguing pattern suggests a dynamic evolution in the expansion of the platform's content library, characterized by a rapid ascent, a pinnacle in 2019, and a subsequent modest tapering off in the subsequent year."
   ]
  },
  {
   "cell_type": "code",
   "execution_count": 162,
   "id": "f1a6e3ae",
   "metadata": {
    "scrolled": true
   },
   "outputs": [
    {
     "data": {
      "image/png": "[encoded data removed]",
      "text/plain": [
       "<Figure size 1296x720 with 1 Axes>"
      ]
     },
     "metadata": {
      "needs_background": "light"
     },
     "output_type": "display_data"
    }
   ],
   "source": [
    "# Plot a bar graph showing the average number of movies released each month across the years\n",
    "\n",
    "movies_per_year_month = movie_df.groupby(['Year Added', 'Month Added']).size()\n",
    "movies_each_month = movies_per_year_month.groupby('Month Added').mean()\n",
    "movies_each_month = round(movies_each_month, 0)\n",
    "movies_each_month\n",
    "\n",
    "plt.figure(3, figsize=(18,10))\n",
    "plt.bar(movies_each_month.index, movies_each_month, color='darkblue')\n",
    "plt.ylabel('Average Number of Movies Added Across the Years')\n",
    "plt.xlabel('Month')\n",
    "plt.xticks(list(range(1,13)),\n",
    "           ['January', 'February', 'March', 'April', 'May', 'June', 'July', 'August', 'September', 'October', 'November', 'December'], \n",
    "           rotation=45, rotation_mode='anchor', ha='right')\n",
    "plt.show()"
   ]
  },
  {
   "cell_type": "markdown",
   "id": "14aadf40",
   "metadata": {},
   "source": [
    "When examining the average monthly patterns of movie additions, it becomes evident that both March and January stand out as the months with the highest influx of new content. These particular months consistently demonstrate a notable surge in the introduction of movies to the platform, suggesting a propensity for heightened activity in content acquisition during these periods. On the contrary, February emerges as the month with the least number of movie additions, showcasing a relative lull or subdued pace in the augmentation of the platform's cinematic repertoire. This observed variability across the months underscores the dynamic nature of content release strategies, with certain months exhibiting robust growth while others experience a more measured addition of movies to the streaming platform."
   ]
  },
  {
   "cell_type": "code",
   "execution_count": 178,
   "id": "600517cb",
   "metadata": {},
   "outputs": [
    {
     "name": "stderr",
     "output_type": "stream",
     "text": [
      "C:\\Users\\ericj\\anaconda3\\lib\\site-packages\\plotly\\express\\_core.py:1637: FutureWarning:\n",
      "\n",
      "The frame.append method is deprecated and will be removed from pandas in a future version. Use pandas.concat instead.\n",
      "\n"
     ]
    },
    {
     "data": {
      "application/vnd.plotly.v1+json": {
       "config": {
        "plotlyServerURL": "https://plot.ly"
       },
       "data": [
        {
         "branchvalues": "total",
         "domain": {
          "x": [
           0,
           1
          ],
          "y": [
           0,
           1
          ]
         },
         "hovertemplate": "labels=%{label}<br>count=%{value}<br>parent=%{parent}<br>id=%{id}<extra></extra>",
         "ids": [
          "Argentina",
          "Australia",
          "Austria",
          "Bangladesh",
          "Belgium",
          "Brazil",
          "Bulgaria",
          "Cambodia",
          "Canada",
          "Chile",
          "China",
          "Colombia",
          "Croatia",
          "Czech Republic",
          "Denmark",
          "Egypt",
          "Finland",
          "France",
          "Georgia",
          "Germany",
          "Ghana",
          "Greece",
          "Guatemala",
          "Hong Kong",
          "Hungary",
          "Iceland",
          "India",
          "Indonesia",
          "Iran",
          "Ireland",
          "Israel",
          "Italy",
          "Jamaica",
          "Japan",
          "Kenya",
          "Kuwait",
          "Lebanon",
          "Malaysia",
          "Mexico",
          "Namibia",
          "Netherlands",
          "New Zealand",
          "Nigeria",
          "Norway",
          "Pakistan",
          "Paraguay",
          "Peru",
          "Philippines",
          "Poland",
          "Portugal",
          "Romania",
          "Russia",
          "Saudi Arabia",
          "Serbia",
          "Singapore",
          "Slovenia",
          "Somalia",
          "South Africa",
          "South Korea",
          "Soviet Union",
          "Spain",
          "Sweden",
          "Switzerland",
          "Taiwan",
          "Thailand",
          "Turkey",
          "United Arab",
          "United Kingdom",
          "United States",
          "Uruguay",
          "Venezuela",
          "Vietnam",
          "West Germany",
          "Zimbabwe"
         ],
         "labels": [
          "Argentina",
          "Australia",
          "Austria",
          "Bangladesh",
          "Belgium",
          "Brazil",
          "Bulgaria",
          "Cambodia",
          "Canada",
          "Chile",
          "China",
          "Colombia",
          "Croatia",
          "Czech Republic",
          "Denmark",
          "Egypt",
          "Finland",
          "France",
          "Georgia",
          "Germany",
          "Ghana",
          "Greece",
          "Guatemala",
          "Hong Kong",
          "Hungary",
          "Iceland",
          "India",
          "Indonesia",
          "Iran",
          "Ireland",
          "Israel",
          "Italy",
          "Jamaica",
          "Japan",
          "Kenya",
          "Kuwait",
          "Lebanon",
          "Malaysia",
          "Mexico",
          "Namibia",
          "Netherlands",
          "New Zealand",
          "Nigeria",
          "Norway",
          "Pakistan",
          "Paraguay",
          "Peru",
          "Philippines",
          "Poland",
          "Portugal",
          "Romania",
          "Russia",
          "Saudi Arabia",
          "Serbia",
          "Singapore",
          "Slovenia",
          "Somalia",
          "South Africa",
          "South Korea",
          "Soviet Union",
          "Spain",
          "Sweden",
          "Switzerland",
          "Taiwan",
          "Thailand",
          "Turkey",
          "United Arab",
          "United Kingdom",
          "United States",
          "Uruguay",
          "Venezuela",
          "Vietnam",
          "West Germany",
          "Zimbabwe"
         ],
         "name": "",
         "parents": [
          "",
          "",
          "",
          "",
          "",
          "",
          "",
          "",
          "",
          "",
          "",
          "",
          "",
          "",
          "",
          "",
          "",
          "",
          "",
          "",
          "",
          "",
          "",
          "",
          "",
          "",
          "",
          "",
          "",
          "",
          "",
          "",
          "",
          "",
          "",
          "",
          "",
          "",
          "",
          "",
          "",
          "",
          "",
          "",
          "",
          "",
          "",
          "",
          "",
          "",
          "",
          "",
          "",
          "",
          "",
          "",
          "",
          "",
          "",
          "",
          "",
          "",
          "",
          "",
          "",
          "",
          "",
          "",
          "",
          "",
          "",
          "",
          "",
          ""
         ],
         "type": "treemap",
         "values": [
          50,
          56,
          7,
          2,
          6,
          51,
          5,
          2,
          173,
          17,
          48,
          13,
          1,
          4,
          19,
          93,
          3,
          134,
          2,
          66,
          4,
          1,
          1,
          73,
          4,
          3,
          871,
          72,
          1,
          20,
          12,
          42,
          1,
          75,
          3,
          4,
          14,
          16,
          79,
          1,
          20,
          13,
          63,
          10,
          18,
          1,
          6,
          74,
          19,
          2,
          10,
          5,
          6,
          3,
          10,
          1,
          1,
          30,
          41,
          1,
          119,
          9,
          6,
          12,
          39,
          77,
          18,
          337,
          2052,
          8,
          2,
          5,
          1,
          1
         ]
        }
       ],
       "layout": {
        "height": 700,
        "legend": {
         "tracegroupgap": 0
        },
        "template": {
         "data": {
          "bar": [
           {
            "error_x": {
             "color": "#2a3f5f"
            },
            "error_y": {
             "color": "#2a3f5f"
            },
            "marker": {
             "line": {
              "color": "#E5ECF6",
              "width": 0.5
             },
             "pattern": {
              "fillmode": "overlay",
              "size": 10,
              "solidity": 0.2
             }
            },
            "type": "bar"
           }
          ],
          "barpolar": [
           {
            "marker": {
             "line": {
              "color": "#E5ECF6",
              "width": 0.5
             },
             "pattern": {
              "fillmode": "overlay",
              "size": 10,
              "solidity": 0.2
             }
            },
            "type": "barpolar"
           }
          ],
          "carpet": [
           {
            "aaxis": {
             "endlinecolor": "#2a3f5f",
             "gridcolor": "white",
             "linecolor": "white",
             "minorgridcolor": "white",
             "startlinecolor": "#2a3f5f"
            },
            "baxis": {
             "endlinecolor": "#2a3f5f",
             "gridcolor": "white",
             "linecolor": "white",
             "minorgridcolor": "white",
             "startlinecolor": "#2a3f5f"
            },
            "type": "carpet"
           }
          ],
          "choropleth": [
           {
            "colorbar": {
             "outlinewidth": 0,
             "ticks": ""
            },
            "type": "choropleth"
           }
          ],
          "contour": [
           {
            "colorbar": {
             "outlinewidth": 0,
             "ticks": ""
            },
            "colorscale": [
             [
              0,
              "#0d0887"
             ],
             [
              0.1111111111111111,
              "#46039f"
             ],
             [
              0.2222222222222222,
              "#7201a8"
             ],
             [
              0.3333333333333333,
              "#9c179e"
             ],
             [
              0.4444444444444444,
              "#bd3786"
             ],
             [
              0.5555555555555556,
              "#d8576b"
             ],
             [
              0.6666666666666666,
              "#ed7953"
             ],
             [
              0.7777777777777778,
              "#fb9f3a"
             ],
             [
              0.8888888888888888,
              "#fdca26"
             ],
             [
              1,
              "#f0f921"
             ]
            ],
            "type": "contour"
           }
          ],
          "contourcarpet": [
           {
            "colorbar": {
             "outlinewidth": 0,
             "ticks": ""
            },
            "type": "contourcarpet"
           }
          ],
          "heatmap": [
           {
            "colorbar": {
             "outlinewidth": 0,
             "ticks": ""
            },
            "colorscale": [
             [
              0,
              "#0d0887"
             ],
             [
              0.1111111111111111,
              "#46039f"
             ],
             [
              0.2222222222222222,
              "#7201a8"
             ],
             [
              0.3333333333333333,
              "#9c179e"
             ],
             [
              0.4444444444444444,
              "#bd3786"
             ],
             [
              0.5555555555555556,
              "#d8576b"
             ],
             [
              0.6666666666666666,
              "#ed7953"
             ],
             [
              0.7777777777777778,
              "#fb9f3a"
             ],
             [
              0.8888888888888888,
              "#fdca26"
             ],
             [
              1,
              "#f0f921"
             ]
            ],
            "type": "heatmap"
           }
          ],
          "heatmapgl": [
           {
            "colorbar": {
             "outlinewidth": 0,
             "ticks": ""
            },
            "colorscale": [
             [
              0,
              "#0d0887"
             ],
             [
              0.1111111111111111,
              "#46039f"
             ],
             [
              0.2222222222222222,
              "#7201a8"
             ],
             [
              0.3333333333333333,
              "#9c179e"
             ],
             [
              0.4444444444444444,
              "#bd3786"
             ],
             [
              0.5555555555555556,
              "#d8576b"
             ],
             [
              0.6666666666666666,
              "#ed7953"
             ],
             [
              0.7777777777777778,
              "#fb9f3a"
             ],
             [
              0.8888888888888888,
              "#fdca26"
             ],
             [
              1,
              "#f0f921"
             ]
            ],
            "type": "heatmapgl"
           }
          ],
          "histogram": [
           {
            "marker": {
             "pattern": {
              "fillmode": "overlay",
              "size": 10,
              "solidity": 0.2
             }
            },
            "type": "histogram"
           }
          ],
          "histogram2d": [
           {
            "colorbar": {
             "outlinewidth": 0,
             "ticks": ""
            },
            "colorscale": [
             [
              0,
              "#0d0887"
             ],
             [
              0.1111111111111111,
              "#46039f"
             ],
             [
              0.2222222222222222,
              "#7201a8"
             ],
             [
              0.3333333333333333,
              "#9c179e"
             ],
             [
              0.4444444444444444,
              "#bd3786"
             ],
             [
              0.5555555555555556,
              "#d8576b"
             ],
             [
              0.6666666666666666,
              "#ed7953"
             ],
             [
              0.7777777777777778,
              "#fb9f3a"
             ],
             [
              0.8888888888888888,
              "#fdca26"
             ],
             [
              1,
              "#f0f921"
             ]
            ],
            "type": "histogram2d"
           }
          ],
          "histogram2dcontour": [
           {
            "colorbar": {
             "outlinewidth": 0,
             "ticks": ""
            },
            "colorscale": [
             [
              0,
              "#0d0887"
             ],
             [
              0.1111111111111111,
              "#46039f"
             ],
             [
              0.2222222222222222,
              "#7201a8"
             ],
             [
              0.3333333333333333,
              "#9c179e"
             ],
             [
              0.4444444444444444,
              "#bd3786"
             ],
             [
              0.5555555555555556,
              "#d8576b"
             ],
             [
              0.6666666666666666,
              "#ed7953"
             ],
             [
              0.7777777777777778,
              "#fb9f3a"
             ],
             [
              0.8888888888888888,
              "#fdca26"
             ],
             [
              1,
              "#f0f921"
             ]
            ],
            "type": "histogram2dcontour"
           }
          ],
          "mesh3d": [
           {
            "colorbar": {
             "outlinewidth": 0,
             "ticks": ""
            },
            "type": "mesh3d"
           }
          ],
          "parcoords": [
           {
            "line": {
             "colorbar": {
              "outlinewidth": 0,
              "ticks": ""
             }
            },
            "type": "parcoords"
           }
          ],
          "pie": [
           {
            "automargin": true,
            "type": "pie"
           }
          ],
          "scatter": [
           {
            "marker": {
             "colorbar": {
              "outlinewidth": 0,
              "ticks": ""
             }
            },
            "type": "scatter"
           }
          ],
          "scatter3d": [
           {
            "line": {
             "colorbar": {
              "outlinewidth": 0,
              "ticks": ""
             }
            },
            "marker": {
             "colorbar": {
              "outlinewidth": 0,
              "ticks": ""
             }
            },
            "type": "scatter3d"
           }
          ],
          "scattercarpet": [
           {
            "marker": {
             "colorbar": {
              "outlinewidth": 0,
              "ticks": ""
             }
            },
            "type": "scattercarpet"
           }
          ],
          "scattergeo": [
           {
            "marker": {
             "colorbar": {
              "outlinewidth": 0,
              "ticks": ""
             }
            },
            "type": "scattergeo"
           }
          ],
          "scattergl": [
           {
            "marker": {
             "colorbar": {
              "outlinewidth": 0,
              "ticks": ""
             }
            },
            "type": "scattergl"
           }
          ],
          "scattermapbox": [
           {
            "marker": {
             "colorbar": {
              "outlinewidth": 0,
              "ticks": ""
             }
            },
            "type": "scattermapbox"
           }
          ],
          "scatterpolar": [
           {
            "marker": {
             "colorbar": {
              "outlinewidth": 0,
              "ticks": ""
             }
            },
            "type": "scatterpolar"
           }
          ],
          "scatterpolargl": [
           {
            "marker": {
             "colorbar": {
              "outlinewidth": 0,
              "ticks": ""
             }
            },
            "type": "scatterpolargl"
           }
          ],
          "scatterternary": [
           {
            "marker": {
             "colorbar": {
              "outlinewidth": 0,
              "ticks": ""
             }
            },
            "type": "scatterternary"
           }
          ],
          "surface": [
           {
            "colorbar": {
             "outlinewidth": 0,
             "ticks": ""
            },
            "colorscale": [
             [
              0,
              "#0d0887"
             ],
             [
              0.1111111111111111,
              "#46039f"
             ],
             [
              0.2222222222222222,
              "#7201a8"
             ],
             [
              0.3333333333333333,
              "#9c179e"
             ],
             [
              0.4444444444444444,
              "#bd3786"
             ],
             [
              0.5555555555555556,
              "#d8576b"
             ],
             [
              0.6666666666666666,
              "#ed7953"
             ],
             [
              0.7777777777777778,
              "#fb9f3a"
             ],
             [
              0.8888888888888888,
              "#fdca26"
             ],
             [
              1,
              "#f0f921"
             ]
            ],
            "type": "surface"
           }
          ],
          "table": [
           {
            "cells": {
             "fill": {
              "color": "#EBF0F8"
             },
             "line": {
              "color": "white"
             }
            },
            "header": {
             "fill": {
              "color": "#C8D4E3"
             },
             "line": {
              "color": "white"
             }
            },
            "type": "table"
           }
          ]
         },
         "layout": {
          "annotationdefaults": {
           "arrowcolor": "#2a3f5f",
           "arrowhead": 0,
           "arrowwidth": 1
          },
          "autotypenumbers": "strict",
          "coloraxis": {
           "colorbar": {
            "outlinewidth": 0,
            "ticks": ""
           }
          },
          "colorscale": {
           "diverging": [
            [
             0,
             "#8e0152"
            ],
            [
             0.1,
             "#c51b7d"
            ],
            [
             0.2,
             "#de77ae"
            ],
            [
             0.3,
             "#f1b6da"
            ],
            [
             0.4,
             "#fde0ef"
            ],
            [
             0.5,
             "#f7f7f7"
            ],
            [
             0.6,
             "#e6f5d0"
            ],
            [
             0.7,
             "#b8e186"
            ],
            [
             0.8,
             "#7fbc41"
            ],
            [
             0.9,
             "#4d9221"
            ],
            [
             1,
             "#276419"
            ]
           ],
           "sequential": [
            [
             0,
             "#0d0887"
            ],
            [
             0.1111111111111111,
             "#46039f"
            ],
            [
             0.2222222222222222,
             "#7201a8"
            ],
            [
             0.3333333333333333,
             "#9c179e"
            ],
            [
             0.4444444444444444,
             "#bd3786"
            ],
            [
             0.5555555555555556,
             "#d8576b"
            ],
            [
             0.6666666666666666,
             "#ed7953"
            ],
            [
             0.7777777777777778,
             "#fb9f3a"
            ],
            [
             0.8888888888888888,
             "#fdca26"
            ],
            [
             1,
             "#f0f921"
            ]
           ],
           "sequentialminus": [
            [
             0,
             "#0d0887"
            ],
            [
             0.1111111111111111,
             "#46039f"
            ],
            [
             0.2222222222222222,
             "#7201a8"
            ],
            [
             0.3333333333333333,
             "#9c179e"
            ],
            [
             0.4444444444444444,
             "#bd3786"
            ],
            [
             0.5555555555555556,
             "#d8576b"
            ],
            [
             0.6666666666666666,
             "#ed7953"
            ],
            [
             0.7777777777777778,
             "#fb9f3a"
            ],
            [
             0.8888888888888888,
             "#fdca26"
            ],
            [
             1,
             "#f0f921"
            ]
           ]
          },
          "colorway": [
           "#636efa",
           "#EF553B",
           "#00cc96",
           "#ab63fa",
           "#FFA15A",
           "#19d3f3",
           "#FF6692",
           "#B6E880",
           "#FF97FF",
           "#FECB52"
          ],
          "font": {
           "color": "#2a3f5f"
          },
          "geo": {
           "bgcolor": "white",
           "lakecolor": "white",
           "landcolor": "#E5ECF6",
           "showlakes": true,
           "showland": true,
           "subunitcolor": "white"
          },
          "hoverlabel": {
           "align": "left"
          },
          "hovermode": "closest",
          "mapbox": {
           "style": "light"
          },
          "paper_bgcolor": "white",
          "plot_bgcolor": "#E5ECF6",
          "polar": {
           "angularaxis": {
            "gridcolor": "white",
            "linecolor": "white",
            "ticks": ""
           },
           "bgcolor": "#E5ECF6",
           "radialaxis": {
            "gridcolor": "white",
            "linecolor": "white",
            "ticks": ""
           }
          },
          "scene": {
           "xaxis": {
            "backgroundcolor": "#E5ECF6",
            "gridcolor": "white",
            "gridwidth": 2,
            "linecolor": "white",
            "showbackground": true,
            "ticks": "",
            "zerolinecolor": "white"
           },
           "yaxis": {
            "backgroundcolor": "#E5ECF6",
            "gridcolor": "white",
            "gridwidth": 2,
            "linecolor": "white",
            "showbackground": true,
            "ticks": "",
            "zerolinecolor": "white"
           },
           "zaxis": {
            "backgroundcolor": "#E5ECF6",
            "gridcolor": "white",
            "gridwidth": 2,
            "linecolor": "white",
            "showbackground": true,
            "ticks": "",
            "zerolinecolor": "white"
           }
          },
          "shapedefaults": {
           "line": {
            "color": "#2a3f5f"
           }
          },
          "ternary": {
           "aaxis": {
            "gridcolor": "white",
            "linecolor": "white",
            "ticks": ""
           },
           "baxis": {
            "gridcolor": "white",
            "linecolor": "white",
            "ticks": ""
           },
           "bgcolor": "#E5ECF6",
           "caxis": {
            "gridcolor": "white",
            "linecolor": "white",
            "ticks": ""
           }
          },
          "title": {
           "x": 0.05
          },
          "xaxis": {
           "automargin": true,
           "gridcolor": "white",
           "linecolor": "white",
           "ticks": "",
           "title": {
            "standoff": 15
           },
           "zerolinecolor": "white",
           "zerolinewidth": 2
          },
          "yaxis": {
           "automargin": true,
           "gridcolor": "white",
           "linecolor": "white",
           "ticks": "",
           "title": {
            "standoff": 15
           },
           "zerolinecolor": "white",
           "zerolinewidth": 2
          }
         }
        },
        "title": {
         "text": "Movie Distribution by Country"
        },
        "width": 1000
       }
      },
      "text/html": [
       "<div>                            <div id=\"ecbdf94c-1c03-4cea-bf99-0f9d23a0da79\" class=\"plotly-graph-div\" style=\"height:700px; width:1000px;\"></div>            <script type=\"text/javascript\">                require([\"plotly\"], function(Plotly) {                    window.PLOTLYENV=window.PLOTLYENV || {};                                    if (document.getElementById(\"ecbdf94c-1c03-4cea-bf99-0f9d23a0da79\")) {                    Plotly.newPlot(                        \"ecbdf94c-1c03-4cea-bf99-0f9d23a0da79\",                        [{\"branchvalues\":\"total\",\"domain\":{\"x\":[0.0,1.0],\"y\":[0.0,1.0]},\"hovertemplate\":\"labels=%{label}<br>count=%{value}<br>parent=%{parent}<br>id=%{id}<extra></extra>\",\"ids\":[\"Argentina\",\"Australia\",\"Austria\",\"Bangladesh\",\"Belgium\",\"Brazil\",\"Bulgaria\",\"Cambodia\",\"Canada\",\"Chile\",\"China\",\"Colombia\",\"Croatia\",\"Czech Republic\",\"Denmark\",\"Egypt\",\"Finland\",\"France\",\"Georgia\",\"Germany\",\"Ghana\",\"Greece\",\"Guatemala\",\"Hong Kong\",\"Hungary\",\"Iceland\",\"India\",\"Indonesia\",\"Iran\",\"Ireland\",\"Israel\",\"Italy\",\"Jamaica\",\"Japan\",\"Kenya\",\"Kuwait\",\"Lebanon\",\"Malaysia\",\"Mexico\",\"Namibia\",\"Netherlands\",\"New Zealand\",\"Nigeria\",\"Norway\",\"Pakistan\",\"Paraguay\",\"Peru\",\"Philippines\",\"Poland\",\"Portugal\",\"Romania\",\"Russia\",\"Saudi Arabia\",\"Serbia\",\"Singapore\",\"Slovenia\",\"Somalia\",\"South Africa\",\"South Korea\",\"Soviet Union\",\"Spain\",\"Sweden\",\"Switzerland\",\"Taiwan\",\"Thailand\",\"Turkey\",\"United Arab\",\"United Kingdom\",\"United States\",\"Uruguay\",\"Venezuela\",\"Vietnam\",\"West Germany\",\"Zimbabwe\"],\"labels\":[\"Argentina\",\"Australia\",\"Austria\",\"Bangladesh\",\"Belgium\",\"Brazil\",\"Bulgaria\",\"Cambodia\",\"Canada\",\"Chile\",\"China\",\"Colombia\",\"Croatia\",\"Czech Republic\",\"Denmark\",\"Egypt\",\"Finland\",\"France\",\"Georgia\",\"Germany\",\"Ghana\",\"Greece\",\"Guatemala\",\"Hong Kong\",\"Hungary\",\"Iceland\",\"India\",\"Indonesia\",\"Iran\",\"Ireland\",\"Israel\",\"Italy\",\"Jamaica\",\"Japan\",\"Kenya\",\"Kuwait\",\"Lebanon\",\"Malaysia\",\"Mexico\",\"Namibia\",\"Netherlands\",\"New Zealand\",\"Nigeria\",\"Norway\",\"Pakistan\",\"Paraguay\",\"Peru\",\"Philippines\",\"Poland\",\"Portugal\",\"Romania\",\"Russia\",\"Saudi Arabia\",\"Serbia\",\"Singapore\",\"Slovenia\",\"Somalia\",\"South Africa\",\"South Korea\",\"Soviet Union\",\"Spain\",\"Sweden\",\"Switzerland\",\"Taiwan\",\"Thailand\",\"Turkey\",\"United Arab\",\"United Kingdom\",\"United States\",\"Uruguay\",\"Venezuela\",\"Vietnam\",\"West Germany\",\"Zimbabwe\"],\"name\":\"\",\"parents\":[\"\",\"\",\"\",\"\",\"\",\"\",\"\",\"\",\"\",\"\",\"\",\"\",\"\",\"\",\"\",\"\",\"\",\"\",\"\",\"\",\"\",\"\",\"\",\"\",\"\",\"\",\"\",\"\",\"\",\"\",\"\",\"\",\"\",\"\",\"\",\"\",\"\",\"\",\"\",\"\",\"\",\"\",\"\",\"\",\"\",\"\",\"\",\"\",\"\",\"\",\"\",\"\",\"\",\"\",\"\",\"\",\"\",\"\",\"\",\"\",\"\",\"\",\"\",\"\",\"\",\"\",\"\",\"\",\"\",\"\",\"\",\"\",\"\",\"\"],\"values\":[50,56,7,2,6,51,5,2,173,17,48,13,1,4,19,93,3,134,2,66,4,1,1,73,4,3,871,72,1,20,12,42,1,75,3,4,14,16,79,1,20,13,63,10,18,1,6,74,19,2,10,5,6,3,10,1,1,30,41,1,119,9,6,12,39,77,18,337,2052,8,2,5,1,1],\"type\":\"treemap\"}],                        {\"template\":{\"data\":{\"bar\":[{\"error_x\":{\"color\":\"#2a3f5f\"},\"error_y\":{\"color\":\"#2a3f5f\"},\"marker\":{\"line\":{\"color\":\"#E5ECF6\",\"width\":0.5},\"pattern\":{\"fillmode\":\"overlay\",\"size\":10,\"solidity\":0.2}},\"type\":\"bar\"}],\"barpolar\":[{\"marker\":{\"line\":{\"color\":\"#E5ECF6\",\"width\":0.5},\"pattern\":{\"fillmode\":\"overlay\",\"size\":10,\"solidity\":0.2}},\"type\":\"barpolar\"}],\"carpet\":[{\"aaxis\":{\"endlinecolor\":\"#2a3f5f\",\"gridcolor\":\"white\",\"linecolor\":\"white\",\"minorgridcolor\":\"white\",\"startlinecolor\":\"#2a3f5f\"},\"baxis\":{\"endlinecolor\":\"#2a3f5f\",\"gridcolor\":\"white\",\"linecolor\":\"white\",\"minorgridcolor\":\"white\",\"startlinecolor\":\"#2a3f5f\"},\"type\":\"carpet\"}],\"choropleth\":[{\"colorbar\":{\"outlinewidth\":0,\"ticks\":\"\"},\"type\":\"choropleth\"}],\"contour\":[{\"colorbar\":{\"outlinewidth\":0,\"ticks\":\"\"},\"colorscale\":[[0.0,\"#0d0887\"],[0.1111111111111111,\"#46039f\"],[0.2222222222222222,\"#7201a8\"],[0.3333333333333333,\"#9c179e\"],[0.4444444444444444,\"#bd3786\"],[0.5555555555555556,\"#d8576b\"],[0.6666666666666666,\"#ed7953\"],[0.7777777777777778,\"#fb9f3a\"],[0.8888888888888888,\"#fdca26\"],[1.0,\"#f0f921\"]],\"type\":\"contour\"}],\"contourcarpet\":[{\"colorbar\":{\"outlinewidth\":0,\"ticks\":\"\"},\"type\":\"contourcarpet\"}],\"heatmap\":[{\"colorbar\":{\"outlinewidth\":0,\"ticks\":\"\"},\"colorscale\":[[0.0,\"#0d0887\"],[0.1111111111111111,\"#46039f\"],[0.2222222222222222,\"#7201a8\"],[0.3333333333333333,\"#9c179e\"],[0.4444444444444444,\"#bd3786\"],[0.5555555555555556,\"#d8576b\"],[0.6666666666666666,\"#ed7953\"],[0.7777777777777778,\"#fb9f3a\"],[0.8888888888888888,\"#fdca26\"],[1.0,\"#f0f921\"]],\"type\":\"heatmap\"}],\"heatmapgl\":[{\"colorbar\":{\"outlinewidth\":0,\"ticks\":\"\"},\"colorscale\":[[0.0,\"#0d0887\"],[0.1111111111111111,\"#46039f\"],[0.2222222222222222,\"#7201a8\"],[0.3333333333333333,\"#9c179e\"],[0.4444444444444444,\"#bd3786\"],[0.5555555555555556,\"#d8576b\"],[0.6666666666666666,\"#ed7953\"],[0.7777777777777778,\"#fb9f3a\"],[0.8888888888888888,\"#fdca26\"],[1.0,\"#f0f921\"]],\"type\":\"heatmapgl\"}],\"histogram\":[{\"marker\":{\"pattern\":{\"fillmode\":\"overlay\",\"size\":10,\"solidity\":0.2}},\"type\":\"histogram\"}],\"histogram2d\":[{\"colorbar\":{\"outlinewidth\":0,\"ticks\":\"\"},\"colorscale\":[[0.0,\"#0d0887\"],[0.1111111111111111,\"#46039f\"],[0.2222222222222222,\"#7201a8\"],[0.3333333333333333,\"#9c179e\"],[0.4444444444444444,\"#bd3786\"],[0.5555555555555556,\"#d8576b\"],[0.6666666666666666,\"#ed7953\"],[0.7777777777777778,\"#fb9f3a\"],[0.8888888888888888,\"#fdca26\"],[1.0,\"#f0f921\"]],\"type\":\"histogram2d\"}],\"histogram2dcontour\":[{\"colorbar\":{\"outlinewidth\":0,\"ticks\":\"\"},\"colorscale\":[[0.0,\"#0d0887\"],[0.1111111111111111,\"#46039f\"],[0.2222222222222222,\"#7201a8\"],[0.3333333333333333,\"#9c179e\"],[0.4444444444444444,\"#bd3786\"],[0.5555555555555556,\"#d8576b\"],[0.6666666666666666,\"#ed7953\"],[0.7777777777777778,\"#fb9f3a\"],[0.8888888888888888,\"#fdca26\"],[1.0,\"#f0f921\"]],\"type\":\"histogram2dcontour\"}],\"mesh3d\":[{\"colorbar\":{\"outlinewidth\":0,\"ticks\":\"\"},\"type\":\"mesh3d\"}],\"parcoords\":[{\"line\":{\"colorbar\":{\"outlinewidth\":0,\"ticks\":\"\"}},\"type\":\"parcoords\"}],\"pie\":[{\"automargin\":true,\"type\":\"pie\"}],\"scatter\":[{\"marker\":{\"colorbar\":{\"outlinewidth\":0,\"ticks\":\"\"}},\"type\":\"scatter\"}],\"scatter3d\":[{\"line\":{\"colorbar\":{\"outlinewidth\":0,\"ticks\":\"\"}},\"marker\":{\"colorbar\":{\"outlinewidth\":0,\"ticks\":\"\"}},\"type\":\"scatter3d\"}],\"scattercarpet\":[{\"marker\":{\"colorbar\":{\"outlinewidth\":0,\"ticks\":\"\"}},\"type\":\"scattercarpet\"}],\"scattergeo\":[{\"marker\":{\"colorbar\":{\"outlinewidth\":0,\"ticks\":\"\"}},\"type\":\"scattergeo\"}],\"scattergl\":[{\"marker\":{\"colorbar\":{\"outlinewidth\":0,\"ticks\":\"\"}},\"type\":\"scattergl\"}],\"scattermapbox\":[{\"marker\":{\"colorbar\":{\"outlinewidth\":0,\"ticks\":\"\"}},\"type\":\"scattermapbox\"}],\"scatterpolar\":[{\"marker\":{\"colorbar\":{\"outlinewidth\":0,\"ticks\":\"\"}},\"type\":\"scatterpolar\"}],\"scatterpolargl\":[{\"marker\":{\"colorbar\":{\"outlinewidth\":0,\"ticks\":\"\"}},\"type\":\"scatterpolargl\"}],\"scatterternary\":[{\"marker\":{\"colorbar\":{\"outlinewidth\":0,\"ticks\":\"\"}},\"type\":\"scatterternary\"}],\"surface\":[{\"colorbar\":{\"outlinewidth\":0,\"ticks\":\"\"},\"colorscale\":[[0.0,\"#0d0887\"],[0.1111111111111111,\"#46039f\"],[0.2222222222222222,\"#7201a8\"],[0.3333333333333333,\"#9c179e\"],[0.4444444444444444,\"#bd3786\"],[0.5555555555555556,\"#d8576b\"],[0.6666666666666666,\"#ed7953\"],[0.7777777777777778,\"#fb9f3a\"],[0.8888888888888888,\"#fdca26\"],[1.0,\"#f0f921\"]],\"type\":\"surface\"}],\"table\":[{\"cells\":{\"fill\":{\"color\":\"#EBF0F8\"},\"line\":{\"color\":\"white\"}},\"header\":{\"fill\":{\"color\":\"#C8D4E3\"},\"line\":{\"color\":\"white\"}},\"type\":\"table\"}]},\"layout\":{\"annotationdefaults\":{\"arrowcolor\":\"#2a3f5f\",\"arrowhead\":0,\"arrowwidth\":1},\"autotypenumbers\":\"strict\",\"coloraxis\":{\"colorbar\":{\"outlinewidth\":0,\"ticks\":\"\"}},\"colorscale\":{\"diverging\":[[0,\"#8e0152\"],[0.1,\"#c51b7d\"],[0.2,\"#de77ae\"],[0.3,\"#f1b6da\"],[0.4,\"#fde0ef\"],[0.5,\"#f7f7f7\"],[0.6,\"#e6f5d0\"],[0.7,\"#b8e186\"],[0.8,\"#7fbc41\"],[0.9,\"#4d9221\"],[1,\"#276419\"]],\"sequential\":[[0.0,\"#0d0887\"],[0.1111111111111111,\"#46039f\"],[0.2222222222222222,\"#7201a8\"],[0.3333333333333333,\"#9c179e\"],[0.4444444444444444,\"#bd3786\"],[0.5555555555555556,\"#d8576b\"],[0.6666666666666666,\"#ed7953\"],[0.7777777777777778,\"#fb9f3a\"],[0.8888888888888888,\"#fdca26\"],[1.0,\"#f0f921\"]],\"sequentialminus\":[[0.0,\"#0d0887\"],[0.1111111111111111,\"#46039f\"],[0.2222222222222222,\"#7201a8\"],[0.3333333333333333,\"#9c179e\"],[0.4444444444444444,\"#bd3786\"],[0.5555555555555556,\"#d8576b\"],[0.6666666666666666,\"#ed7953\"],[0.7777777777777778,\"#fb9f3a\"],[0.8888888888888888,\"#fdca26\"],[1.0,\"#f0f921\"]]},\"colorway\":[\"#636efa\",\"#EF553B\",\"#00cc96\",\"#ab63fa\",\"#FFA15A\",\"#19d3f3\",\"#FF6692\",\"#B6E880\",\"#FF97FF\",\"#FECB52\"],\"font\":{\"color\":\"#2a3f5f\"},\"geo\":{\"bgcolor\":\"white\",\"lakecolor\":\"white\",\"landcolor\":\"#E5ECF6\",\"showlakes\":true,\"showland\":true,\"subunitcolor\":\"white\"},\"hoverlabel\":{\"align\":\"left\"},\"hovermode\":\"closest\",\"mapbox\":{\"style\":\"light\"},\"paper_bgcolor\":\"white\",\"plot_bgcolor\":\"#E5ECF6\",\"polar\":{\"angularaxis\":{\"gridcolor\":\"white\",\"linecolor\":\"white\",\"ticks\":\"\"},\"bgcolor\":\"#E5ECF6\",\"radialaxis\":{\"gridcolor\":\"white\",\"linecolor\":\"white\",\"ticks\":\"\"}},\"scene\":{\"xaxis\":{\"backgroundcolor\":\"#E5ECF6\",\"gridcolor\":\"white\",\"gridwidth\":2,\"linecolor\":\"white\",\"showbackground\":true,\"ticks\":\"\",\"zerolinecolor\":\"white\"},\"yaxis\":{\"backgroundcolor\":\"#E5ECF6\",\"gridcolor\":\"white\",\"gridwidth\":2,\"linecolor\":\"white\",\"showbackground\":true,\"ticks\":\"\",\"zerolinecolor\":\"white\"},\"zaxis\":{\"backgroundcolor\":\"#E5ECF6\",\"gridcolor\":\"white\",\"gridwidth\":2,\"linecolor\":\"white\",\"showbackground\":true,\"ticks\":\"\",\"zerolinecolor\":\"white\"}},\"shapedefaults\":{\"line\":{\"color\":\"#2a3f5f\"}},\"ternary\":{\"aaxis\":{\"gridcolor\":\"white\",\"linecolor\":\"white\",\"ticks\":\"\"},\"baxis\":{\"gridcolor\":\"white\",\"linecolor\":\"white\",\"ticks\":\"\"},\"bgcolor\":\"#E5ECF6\",\"caxis\":{\"gridcolor\":\"white\",\"linecolor\":\"white\",\"ticks\":\"\"}},\"title\":{\"x\":0.05},\"xaxis\":{\"automargin\":true,\"gridcolor\":\"white\",\"linecolor\":\"white\",\"ticks\":\"\",\"title\":{\"standoff\":15},\"zerolinecolor\":\"white\",\"zerolinewidth\":2},\"yaxis\":{\"automargin\":true,\"gridcolor\":\"white\",\"linecolor\":\"white\",\"ticks\":\"\",\"title\":{\"standoff\":15},\"zerolinecolor\":\"white\",\"zerolinewidth\":2}}},\"legend\":{\"tracegroupgap\":0},\"title\":{\"text\":\"Movie Distribution by Country\"},\"width\":1000,\"height\":700},                        {\"responsive\": true}                    ).then(function(){\n",
       "                            \n",
       "var gd = document.getElementById('ecbdf94c-1c03-4cea-bf99-0f9d23a0da79');\n",
       "var x = new MutationObserver(function (mutations, observer) {{\n",
       "        var display = window.getComputedStyle(gd).display;\n",
       "        if (!display || display === 'none') {{\n",
       "            console.log([gd, 'removed!']);\n",
       "            Plotly.purge(gd);\n",
       "            observer.disconnect();\n",
       "        }}\n",
       "}});\n",
       "\n",
       "// Listen for the removal of the full notebook cells\n",
       "var notebookContainer = gd.closest('#notebook-container');\n",
       "if (notebookContainer) {{\n",
       "    x.observe(notebookContainer, {childList: true});\n",
       "}}\n",
       "\n",
       "// Listen for the clearing of the current output cell\n",
       "var outputEl = gd.closest('.output');\n",
       "if (outputEl) {{\n",
       "    x.observe(outputEl, {childList: true});\n",
       "}}\n",
       "\n",
       "                        })                };                });            </script>        </div>"
      ]
     },
     "metadata": {},
     "output_type": "display_data"
    }
   ],
   "source": [
    "# Plot a treemap that shows the movie distribution by country\n",
    "\n",
    "fig = px.treemap(movie_df, path=['Country'], title='Movie Distribution by Country')\n",
    "fig.update_layout(width=1000, height=700)\n",
    "fig.show()"
   ]
  },
  {
   "cell_type": "markdown",
   "id": "70746504",
   "metadata": {},
   "source": [
    "The preeminent contributor to the cinematic landscape during the specified timeframe was the United States, substantiating its position as the primary source of movie content. Following closely in the global cinematic tapestry were India, the United Kingdom, and Canada, each making substantial contributions to the diverse array of films available. This hierarchical distribution of movie contributions underscores the multinational nature of content availability on the platform, with the United States leading the way, followed by other significant film-producing nations such as India, the United Kingdom, and Canada. This collaborative amalgamation of cinematic offerings from these diverse regions contributes to the rich and multifaceted content tapestry that characterizes the streaming platform's global appeal."
   ]
  },
  {
   "cell_type": "code",
   "execution_count": 180,
   "id": "d824c91e",
   "metadata": {},
   "outputs": [],
   "source": [
    "# top 10 country movie genre"
   ]
  },
  {
   "cell_type": "code",
   "execution_count": 181,
   "id": "b337109c",
   "metadata": {},
   "outputs": [],
   "source": [
    "# geography vs. genre - chi square test"
   ]
  },
  {
   "cell_type": "code",
   "execution_count": null,
   "id": "b36ca452",
   "metadata": {},
   "outputs": [],
   "source": []
  }
 ],
 "metadata": {
  "kernelspec": {
   "display_name": "Python 3 (ipykernel)",
   "language": "python",
   "name": "python3"
  },
  "language_info": {
   "codemirror_mode": {
    "name": "ipython",
    "version": 3
   },
   "file_extension": ".py",
   "mimetype": "text/x-python",
   "name": "python",
   "nbconvert_exporter": "python",
   "pygments_lexer": "ipython3",
   "version": "3.9.12"
  }
 },
 "nbformat": 4,
 "nbformat_minor": 5
}
